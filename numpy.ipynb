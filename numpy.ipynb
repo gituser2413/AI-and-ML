{
 "cells": [
  {
   "cell_type": "code",
   "execution_count": 1,
   "id": "2b3301ba-38f9-4585-b77d-23668604f018",
   "metadata": {},
   "outputs": [],
   "source": [
    "import numpy as np"
   ]
  },
  {
   "cell_type": "markdown",
   "id": "7aa1fff4-2790-4eab-a2be-b5f3443b911c",
   "metadata": {},
   "source": [
    "##### Create the array"
   ]
  },
  {
   "cell_type": "code",
   "execution_count": 6,
   "id": "12558c35-af40-443b-ab79-c8779e48fde9",
   "metadata": {},
   "outputs": [],
   "source": [
    "import numpy as np"
   ]
  },
  {
   "cell_type": "code",
   "execution_count": 7,
   "id": "b72aff47-3e26-491a-a5b0-c08e55ccf817",
   "metadata": {},
   "outputs": [],
   "source": [
    " x = np.array([3,66,77,8,22,5])"
   ]
  },
  {
   "cell_type": "code",
   "execution_count": 8,
   "id": "65737227-ff43-46fc-9f41-e223e0d5f660",
   "metadata": {},
   "outputs": [
    {
     "name": "stdout",
     "output_type": "stream",
     "text": [
      "[ 3 66 77  8 22  5]\n"
     ]
    }
   ],
   "source": [
    "print(x)"
   ]
  },
  {
   "cell_type": "code",
   "execution_count": 10,
   "id": "43ac8fbd-a097-4359-adc1-0f394ddd7742",
   "metadata": {},
   "outputs": [
    {
     "data": {
      "text/plain": [
       "numpy.ndarray"
      ]
     },
     "execution_count": 10,
     "metadata": {},
     "output_type": "execute_result"
    }
   ],
   "source": [
    "type(x)"
   ]
  },
  {
   "cell_type": "code",
   "execution_count": 11,
   "id": "6bde8404-3a7e-4c2b-a307-783d9ec28fb1",
   "metadata": {},
   "outputs": [
    {
     "data": {
      "text/plain": [
       "1"
      ]
     },
     "execution_count": 11,
     "metadata": {},
     "output_type": "execute_result"
    }
   ],
   "source": [
    "x.ndim"
   ]
  },
  {
   "cell_type": "code",
   "execution_count": 12,
   "id": "ec64c262-a91f-4e54-bf6f-667e6bf9ca59",
   "metadata": {},
   "outputs": [
    {
     "data": {
      "text/plain": [
       "array([ 3, 66, 77,  8, 22,  5])"
      ]
     },
     "execution_count": 12,
     "metadata": {},
     "output_type": "execute_result"
    }
   ],
   "source": [
    "x"
   ]
  },
  {
   "cell_type": "code",
   "execution_count": 13,
   "id": "cb6e4e71-259a-4ad7-a23a-3442a8064121",
   "metadata": {},
   "outputs": [
    {
     "data": {
      "text/plain": [
       "dtype('int32')"
      ]
     },
     "execution_count": 13,
     "metadata": {},
     "output_type": "execute_result"
    }
   ],
   "source": [
    "x.dtype"
   ]
  },
  {
   "cell_type": "code",
   "execution_count": 14,
   "id": "871c80a5-561f-4ccc-8e95-fa7f5b48e120",
   "metadata": {},
   "outputs": [],
   "source": [
    "a = 3467134761783264568765924635689824357656"
   ]
  },
  {
   "cell_type": "code",
   "execution_count": 15,
   "id": "b89bf209-3935-4cae-867e-4aa8bd83638f",
   "metadata": {},
   "outputs": [
    {
     "data": {
      "text/plain": [
       "3467134761783264568765924635689824357656"
      ]
     },
     "execution_count": 15,
     "metadata": {},
     "output_type": "execute_result"
    }
   ],
   "source": [
    "a"
   ]
  },
  {
   "cell_type": "code",
   "execution_count": 19,
   "id": "781c3311-aa76-4c0a-8c3e-d8318abc92e3",
   "metadata": {},
   "outputs": [],
   "source": [
    "a=345**345"
   ]
  },
  {
   "cell_type": "code",
   "execution_count": 20,
   "id": "589d0d5e-df25-4fc7-9a07-607bd0b4c338",
   "metadata": {},
   "outputs": [
    {
     "data": {
      "text/plain": [
       "352848113870204861357459895912531129403507172704013282541742157899456279557412465012695188583298962419493171929147862854772109625539123370910419162733970136188582502219077018174392588019423198314145997265220190235439566326342226152827240525807114608624322879668422640232363157410757905535424768044992698814421867109299929558304806683119893313844877531396486438431390305197452911262043462554411614485250599678028699591929429222180485479831487144383799325404119388131394426280664195692712093219933488338481596155234470038900215619397099277229999727378553536012752712026967888172763066075329584556914467936422537738938806778973045878665965306174689259116323832457431073476798297929944047699990387646687668142535928031312588786361817184205647774910846811845586215688015729558539113289643239674032170907304237918173615485980032335759315150792991833128553480491973459720611572265625"
      ]
     },
     "execution_count": 20,
     "metadata": {},
     "output_type": "execute_result"
    }
   ],
   "source": [
    "a"
   ]
  },
  {
   "cell_type": "code",
   "execution_count": 22,
   "id": "1d5f71f1-d773-4ba9-8fbf-b66497a3144c",
   "metadata": {},
   "outputs": [],
   "source": [
    " x = np.array([3,66,77,8,22,5] , dtype=np.int8)"
   ]
  },
  {
   "cell_type": "code",
   "execution_count": 23,
   "id": "2d020ea3-8b3b-4bf2-82d4-a61c8e2ed99b",
   "metadata": {},
   "outputs": [
    {
     "data": {
      "text/plain": [
       "array([ 3, 66, 77,  8, 22,  5], dtype=int8)"
      ]
     },
     "execution_count": 23,
     "metadata": {},
     "output_type": "execute_result"
    }
   ],
   "source": [
    "x"
   ]
  },
  {
   "cell_type": "code",
   "execution_count": 24,
   "id": "d7c15b9e-7a98-43b2-a2e0-8ea98a0fe569",
   "metadata": {},
   "outputs": [],
   "source": [
    "x[0] = 127"
   ]
  },
  {
   "cell_type": "code",
   "execution_count": 25,
   "id": "858057c1-49e8-4f05-9263-a467a526b375",
   "metadata": {},
   "outputs": [
    {
     "data": {
      "text/plain": [
       "array([127,  66,  77,   8,  22,   5], dtype=int8)"
      ]
     },
     "execution_count": 25,
     "metadata": {},
     "output_type": "execute_result"
    }
   ],
   "source": [
    "x"
   ]
  },
  {
   "cell_type": "code",
   "execution_count": 27,
   "id": "8e71dc08-7eea-4f08-9256-2ebc11f7566b",
   "metadata": {},
   "outputs": [],
   "source": [
    " x = np.array([3,66,77,8,22,5] , dtype=np.uint8)"
   ]
  },
  {
   "cell_type": "code",
   "execution_count": 28,
   "id": "5ed9061b-5d45-421c-a8ba-211d6ee474dc",
   "metadata": {},
   "outputs": [],
   "source": [
    "x[0] = 127"
   ]
  },
  {
   "cell_type": "code",
   "execution_count": 29,
   "id": "d32f2f9f-0b50-428c-a87c-02fd5ca6fca1",
   "metadata": {},
   "outputs": [
    {
     "data": {
      "text/plain": [
       "array([127,  66,  77,   8,  22,   5], dtype=uint8)"
      ]
     },
     "execution_count": 29,
     "metadata": {},
     "output_type": "execute_result"
    }
   ],
   "source": [
    "x"
   ]
  },
  {
   "cell_type": "code",
   "execution_count": 32,
   "id": "e394a5e1-11fd-4692-a82f-60511c357aaa",
   "metadata": {},
   "outputs": [
    {
     "data": {
      "text/plain": [
       "6"
      ]
     },
     "execution_count": 32,
     "metadata": {},
     "output_type": "execute_result"
    }
   ],
   "source": [
    "x.size"
   ]
  },
  {
   "cell_type": "code",
   "execution_count": 33,
   "id": "18980352-dd63-4b21-97ad-1254b2c720ee",
   "metadata": {},
   "outputs": [
    {
     "data": {
      "text/plain": [
       "(6,)"
      ]
     },
     "execution_count": 33,
     "metadata": {},
     "output_type": "execute_result"
    }
   ],
   "source": [
    "x.shape"
   ]
  },
  {
   "cell_type": "code",
   "execution_count": 34,
   "id": "0ed56323-e1d2-48b6-b4bc-2962b4e5c267",
   "metadata": {},
   "outputs": [
    {
     "data": {
      "text/plain": [
       "5"
      ]
     },
     "execution_count": 34,
     "metadata": {},
     "output_type": "execute_result"
    }
   ],
   "source": [
    "x.min()"
   ]
  },
  {
   "cell_type": "code",
   "execution_count": 35,
   "id": "67f1c368-b84c-42e0-8619-bb2e4e865500",
   "metadata": {},
   "outputs": [
    {
     "data": {
      "text/plain": [
       "244"
      ]
     },
     "execution_count": 35,
     "metadata": {},
     "output_type": "execute_result"
    }
   ],
   "source": [
    "x.max()"
   ]
  },
  {
   "cell_type": "code",
   "execution_count": 36,
   "id": "665c6ab6-63b1-4e04-abf6-ce3dd3351aae",
   "metadata": {},
   "outputs": [
    {
     "data": {
      "text/plain": [
       "array([244,  66,  77,   8,  22,   5], dtype=uint8)"
      ]
     },
     "execution_count": 36,
     "metadata": {},
     "output_type": "execute_result"
    }
   ],
   "source": [
    "x"
   ]
  },
  {
   "cell_type": "code",
   "execution_count": 38,
   "id": "74b4b500-2010-438a-8980-7257a39734e3",
   "metadata": {},
   "outputs": [
    {
     "data": {
      "text/plain": [
       "70.33333333333333"
      ]
     },
     "execution_count": 38,
     "metadata": {},
     "output_type": "execute_result"
    }
   ],
   "source": [
    "x.mean()"
   ]
  },
  {
   "cell_type": "code",
   "execution_count": 39,
   "id": "0fd581e6-c41d-4851-b10d-5b52bf560781",
   "metadata": {},
   "outputs": [],
   "source": [
    "x.resize()"
   ]
  },
  {
   "cell_type": "code",
   "execution_count": 40,
   "id": "829c7f92-e4b0-4035-81a7-d72f695e3d1a",
   "metadata": {},
   "outputs": [
    {
     "data": {
      "text/plain": [
       "array([244,  66,  77,   8,  22,   5], dtype=uint8)"
      ]
     },
     "execution_count": 40,
     "metadata": {},
     "output_type": "execute_result"
    }
   ],
   "source": [
    "x"
   ]
  },
  {
   "cell_type": "code",
   "execution_count": 41,
   "id": "c0aad577-596b-4ab0-85a2-4c3f57c7bd65",
   "metadata": {},
   "outputs": [],
   "source": [
    " y = np.array([3,66,77.6,8,22,5])"
   ]
  },
  {
   "cell_type": "code",
   "execution_count": 43,
   "id": "82e3e822-17a1-4d5a-a7ce-3c7dc7b425ee",
   "metadata": {},
   "outputs": [
    {
     "data": {
      "text/plain": [
       "numpy.ndarray"
      ]
     },
     "execution_count": 43,
     "metadata": {},
     "output_type": "execute_result"
    }
   ],
   "source": [
    "type(y)"
   ]
  },
  {
   "cell_type": "code",
   "execution_count": 45,
   "id": "22d68983-7a32-43f6-90a1-e7a42afc8859",
   "metadata": {},
   "outputs": [
    {
     "data": {
      "text/plain": [
       "dtype('float64')"
      ]
     },
     "execution_count": 45,
     "metadata": {},
     "output_type": "execute_result"
    }
   ],
   "source": [
    "y.dtype"
   ]
  },
  {
   "cell_type": "code",
   "execution_count": 50,
   "id": "a2f91cb4-9e62-4449-88cd-a9becfcd71a4",
   "metadata": {},
   "outputs": [],
   "source": [
    " z = np.array([3,66,77.6,8,22,5,True])"
   ]
  },
  {
   "cell_type": "code",
   "execution_count": 51,
   "id": "d3c4b11e-f301-4a99-b0b4-4608233c41fa",
   "metadata": {},
   "outputs": [
    {
     "data": {
      "text/plain": [
       "array([ 3. , 66. , 77.6,  8. , 22. ,  5. ,  1. ])"
      ]
     },
     "execution_count": 51,
     "metadata": {},
     "output_type": "execute_result"
    }
   ],
   "source": [
    "z"
   ]
  },
  {
   "cell_type": "code",
   "execution_count": 52,
   "id": "34b72cce-f133-477a-8443-5e4a4dec1ddf",
   "metadata": {},
   "outputs": [
    {
     "data": {
      "text/plain": [
       "numpy.ndarray"
      ]
     },
     "execution_count": 52,
     "metadata": {},
     "output_type": "execute_result"
    }
   ],
   "source": [
    "type(z)"
   ]
  },
  {
   "cell_type": "code",
   "execution_count": 53,
   "id": "baf0444c-60bb-43b2-ac7e-f1072ed244a0",
   "metadata": {},
   "outputs": [
    {
     "data": {
      "text/plain": [
       "dtype('float64')"
      ]
     },
     "execution_count": 53,
     "metadata": {},
     "output_type": "execute_result"
    }
   ],
   "source": [
    "z.dtype"
   ]
  },
  {
   "cell_type": "code",
   "execution_count": 54,
   "id": "766a4591-1df3-443a-9682-45701f9be9a4",
   "metadata": {},
   "outputs": [],
   "source": [
    "z=np.zeros(10)"
   ]
  },
  {
   "cell_type": "code",
   "execution_count": 55,
   "id": "6d366bfd-9961-4ec5-ad78-c11f64b8c94e",
   "metadata": {},
   "outputs": [
    {
     "data": {
      "text/plain": [
       "array([0., 0., 0., 0., 0., 0., 0., 0., 0., 0.])"
      ]
     },
     "execution_count": 55,
     "metadata": {},
     "output_type": "execute_result"
    }
   ],
   "source": [
    "z"
   ]
  },
  {
   "cell_type": "code",
   "execution_count": 56,
   "id": "dc991598-b7d5-4e18-b674-53b7f55cef16",
   "metadata": {},
   "outputs": [],
   "source": [
    "z=np.zeros(10,dtype = np.int16)"
   ]
  },
  {
   "cell_type": "code",
   "execution_count": 57,
   "id": "f340d27d-ac64-4461-b460-8ed7fe4c54a4",
   "metadata": {},
   "outputs": [
    {
     "data": {
      "text/plain": [
       "array([0, 0, 0, 0, 0, 0, 0, 0, 0, 0], dtype=int16)"
      ]
     },
     "execution_count": 57,
     "metadata": {},
     "output_type": "execute_result"
    }
   ],
   "source": [
    "z"
   ]
  },
  {
   "cell_type": "code",
   "execution_count": 58,
   "id": "7b70a397-b075-407f-b148-c1f6063bc660",
   "metadata": {},
   "outputs": [],
   "source": [
    "z=np.ones(10,dtype = np.int16)"
   ]
  },
  {
   "cell_type": "code",
   "execution_count": 59,
   "id": "85d756c2-aa6a-4e7e-ac80-26cb875318ab",
   "metadata": {},
   "outputs": [
    {
     "data": {
      "text/plain": [
       "array([1, 1, 1, 1, 1, 1, 1, 1, 1, 1], dtype=int16)"
      ]
     },
     "execution_count": 59,
     "metadata": {},
     "output_type": "execute_result"
    }
   ],
   "source": [
    "z"
   ]
  },
  {
   "cell_type": "code",
   "execution_count": 61,
   "id": "a71ee660-3434-476e-a0bc-be7c179f8f34",
   "metadata": {},
   "outputs": [
    {
     "data": {
      "text/plain": [
       "array([0, 1, 2, 3, 4, 5, 6, 7, 8, 9])"
      ]
     },
     "execution_count": 61,
     "metadata": {},
     "output_type": "execute_result"
    }
   ],
   "source": [
    "np.arange(10)"
   ]
  },
  {
   "cell_type": "code",
   "execution_count": 62,
   "id": "0b68a29a-6153-4125-b809-7df4dc3519b7",
   "metadata": {},
   "outputs": [
    {
     "data": {
      "text/plain": [
       "array([4, 5, 6, 7, 8, 9])"
      ]
     },
     "execution_count": 62,
     "metadata": {},
     "output_type": "execute_result"
    }
   ],
   "source": [
    "np.arange(4,10)"
   ]
  },
  {
   "cell_type": "code",
   "execution_count": 63,
   "id": "e63cb32e-6c7f-4a9a-bd8b-c06e91d49d0e",
   "metadata": {},
   "outputs": [
    {
     "data": {
      "text/plain": [
       "array([ 2,  6, 10, 14, 18])"
      ]
     },
     "execution_count": 63,
     "metadata": {},
     "output_type": "execute_result"
    }
   ],
   "source": [
    "np.arange(2,20,4)"
   ]
  },
  {
   "cell_type": "code",
   "execution_count": 64,
   "id": "be6435e9-23aa-47eb-9cf2-80a0a1a5d1d6",
   "metadata": {},
   "outputs": [
    {
     "data": {
      "text/plain": [
       "array([20, 16, 12,  8,  4])"
      ]
     },
     "execution_count": 64,
     "metadata": {},
     "output_type": "execute_result"
    }
   ],
   "source": [
    "np.arange(20,1,-4)"
   ]
  },
  {
   "cell_type": "code",
   "execution_count": 66,
   "id": "097313d3-8947-491d-acf5-00757903bc4d",
   "metadata": {},
   "outputs": [
    {
     "data": {
      "text/plain": [
       "array([0.  , 0.33, 0.66, 0.99, 1.32, 1.65, 1.98, 2.31, 2.64, 2.97, 3.3 ,\n",
       "       3.63, 3.96, 4.29, 4.62, 4.95, 5.28, 5.61, 5.94, 6.27, 6.6 , 6.93,\n",
       "       7.26, 7.59, 7.92, 8.25, 8.58, 8.91, 9.24, 9.57, 9.9 ])"
      ]
     },
     "execution_count": 66,
     "metadata": {},
     "output_type": "execute_result"
    }
   ],
   "source": [
    "np.arange(0,10,0.33)"
   ]
  },
  {
   "cell_type": "code",
   "execution_count": 67,
   "id": "a69f31ed-012b-42c7-85d9-de3108e046f2",
   "metadata": {},
   "outputs": [
    {
     "data": {
      "text/plain": [
       "array([1, 6])"
      ]
     },
     "execution_count": 67,
     "metadata": {},
     "output_type": "execute_result"
    }
   ],
   "source": [
    "np.arange(1,11,5)"
   ]
  },
  {
   "cell_type": "markdown",
   "id": "1a0ad138-cdb1-4c42-b778-200eec12957b",
   "metadata": {},
   "source": [
    "##### Array Operations"
   ]
  },
  {
   "cell_type": "code",
   "execution_count": 69,
   "id": "53f3aae5-d8aa-4ffc-a587-7c7645f57f3a",
   "metadata": {},
   "outputs": [],
   "source": [
    "n1 = np.array ([56,28,23,25,9])\n",
    "n1 = np.array ([44,28,2,2,94])\n"
   ]
  },
  {
   "cell_type": "code",
   "execution_count": 70,
   "id": "c54443a3-264b-485e-a49c-9245a3fb9ef3",
   "metadata": {},
   "outputs": [
    {
     "data": {
      "text/plain": [
       "array([ 54,  38,  12,  12, 104])"
      ]
     },
     "execution_count": 70,
     "metadata": {},
     "output_type": "execute_result"
    }
   ],
   "source": [
    "n1 + 10"
   ]
  },
  {
   "cell_type": "code",
   "execution_count": 71,
   "id": "14418a00-4764-4441-92c7-2cc8e42cd9f3",
   "metadata": {},
   "outputs": [],
   "source": [
    "n1 = np.array ([56,28,23,25,9])\n",
    "n2 = np.array ([44,28,2,2,94])\n"
   ]
  },
  {
   "cell_type": "code",
   "execution_count": 72,
   "id": "8e6eaae4-6146-42eb-a393-d4efc0586427",
   "metadata": {},
   "outputs": [
    {
     "data": {
      "text/plain": [
       "array([66, 38, 33, 35, 19])"
      ]
     },
     "execution_count": 72,
     "metadata": {},
     "output_type": "execute_result"
    }
   ],
   "source": [
    "n1 + 10"
   ]
  },
  {
   "cell_type": "code",
   "execution_count": 73,
   "id": "c40f55d7-0ac4-4b3b-95e4-27c5e718db73",
   "metadata": {},
   "outputs": [
    {
     "data": {
      "text/plain": [
       "array([ 8.8,  5.6,  0.4,  0.4, 18.8])"
      ]
     },
     "execution_count": 73,
     "metadata": {},
     "output_type": "execute_result"
    }
   ],
   "source": [
    "n2 /5"
   ]
  },
  {
   "cell_type": "code",
   "execution_count": 74,
   "id": "77df1936-2fa8-4573-be0c-0e7730a19090",
   "metadata": {},
   "outputs": [
    {
     "data": {
      "text/plain": [
       "array([112,  56,  46,  50,  18])"
      ]
     },
     "execution_count": 74,
     "metadata": {},
     "output_type": "execute_result"
    }
   ],
   "source": [
    "n1 * 2"
   ]
  },
  {
   "cell_type": "code",
   "execution_count": 75,
   "id": "56993508-0c17-4ee1-b819-9e0b782bf2f8",
   "metadata": {},
   "outputs": [
    {
     "data": {
      "text/plain": [
       "[56, 28, 23, 25, 9, 56, 28, 23, 25, 9, 56, 28, 23, 25, 9]"
      ]
     },
     "execution_count": 75,
     "metadata": {},
     "output_type": "execute_result"
    }
   ],
   "source": [
    "[56,28,23,25,9]*3"
   ]
  },
  {
   "cell_type": "code",
   "execution_count": 76,
   "id": "e59a2118-74f2-49ab-9435-6201c82e47a4",
   "metadata": {},
   "outputs": [
    {
     "data": {
      "text/plain": [
       "array([100,  56,  25,  27, 103])"
      ]
     },
     "execution_count": 76,
     "metadata": {},
     "output_type": "execute_result"
    }
   ],
   "source": [
    "n1 + n2"
   ]
  },
  {
   "cell_type": "code",
   "execution_count": 77,
   "id": "b88ed632-283e-4e64-b46f-6fb70ee60787",
   "metadata": {},
   "outputs": [
    {
     "data": {
      "text/plain": [
       "array([ 12,   0,  21,  23, -85])"
      ]
     },
     "execution_count": 77,
     "metadata": {},
     "output_type": "execute_result"
    }
   ],
   "source": [
    "n1- n2"
   ]
  },
  {
   "cell_type": "code",
   "execution_count": 78,
   "id": "7cd3a325-efb9-4e7e-ba92-106af8b5d4bd",
   "metadata": {},
   "outputs": [
    {
     "data": {
      "text/plain": [
       "array([2464,  784,   46,   50,  846])"
      ]
     },
     "execution_count": 78,
     "metadata": {},
     "output_type": "execute_result"
    }
   ],
   "source": [
    "n1*n2"
   ]
  },
  {
   "cell_type": "code",
   "execution_count": 79,
   "id": "8cd324a6-2ba9-41fd-b686-c1e24f465434",
   "metadata": {},
   "outputs": [
    {
     "data": {
      "text/plain": [
       "array([ 0.78571429,  1.        ,  0.08695652,  0.08      , 10.44444444])"
      ]
     },
     "execution_count": 79,
     "metadata": {},
     "output_type": "execute_result"
    }
   ],
   "source": [
    "n2 / n1"
   ]
  },
  {
   "cell_type": "markdown",
   "id": "9f0f089f-0b5a-4b10-8cd5-0f17a1cba4f9",
   "metadata": {},
   "source": [
    "##### MATRIX"
   ]
  },
  {
   "cell_type": "code",
   "execution_count": 81,
   "id": "1eaae3a1-ad27-4057-915b-5ff8dc8f051b",
   "metadata": {},
   "outputs": [],
   "source": [
    "M = np.array([ [2,3,4],[5,1,2],[7,8,9]])\n"
   ]
  },
  {
   "cell_type": "markdown",
   "id": "c2d18a38-6d22-4ed6-9bc5-0412cff542ac",
   "metadata": {},
   "source": [
    "M"
   ]
  },
  {
   "cell_type": "code",
   "execution_count": 84,
   "id": "d9bfa62a-4aaa-4f25-95c7-253ecd8f0715",
   "metadata": {},
   "outputs": [
    {
     "data": {
      "text/plain": [
       "dtype('int32')"
      ]
     },
     "execution_count": 84,
     "metadata": {},
     "output_type": "execute_result"
    }
   ],
   "source": [
    "M.dtype"
   ]
  },
  {
   "cell_type": "code",
   "execution_count": 85,
   "id": "6ac59768-34ae-4388-9c93-566c66de906f",
   "metadata": {},
   "outputs": [
    {
     "data": {
      "text/plain": [
       "9"
      ]
     },
     "execution_count": 85,
     "metadata": {},
     "output_type": "execute_result"
    }
   ],
   "source": [
    "M.size"
   ]
  },
  {
   "cell_type": "code",
   "execution_count": 87,
   "id": "e8c7bbbb-135d-4858-aa09-5eb738b44757",
   "metadata": {},
   "outputs": [
    {
     "data": {
      "text/plain": [
       "2"
      ]
     },
     "execution_count": 87,
     "metadata": {},
     "output_type": "execute_result"
    }
   ],
   "source": [
    "M.ndim"
   ]
  },
  {
   "cell_type": "code",
   "execution_count": 88,
   "id": "dd1bcb73-a168-437e-8cec-393436f5bb87",
   "metadata": {},
   "outputs": [
    {
     "data": {
      "text/plain": [
       "(3, 3)"
      ]
     },
     "execution_count": 88,
     "metadata": {},
     "output_type": "execute_result"
    }
   ],
   "source": [
    "M.shape"
   ]
  },
  {
   "cell_type": "code",
   "execution_count": 89,
   "id": "116c0f53-dcd3-4fc3-b2ab-3bfd8c18d4c3",
   "metadata": {},
   "outputs": [
    {
     "data": {
      "text/plain": [
       "8"
      ]
     },
     "execution_count": 89,
     "metadata": {},
     "output_type": "execute_result"
    }
   ],
   "source": [
    "M[2,1]"
   ]
  },
  {
   "cell_type": "code",
   "execution_count": 90,
   "id": "d55dec05-3dc3-4a3b-8919-c5f34602f02e",
   "metadata": {},
   "outputs": [
    {
     "data": {
      "text/plain": [
       "array([[5, 1, 2],\n",
       "       [7, 8, 9]])"
      ]
     },
     "execution_count": 90,
     "metadata": {},
     "output_type": "execute_result"
    }
   ],
   "source": [
    "M[1:3][0:2]"
   ]
  },
  {
   "cell_type": "code",
   "execution_count": 91,
   "id": "5308e1db-eeda-4344-87b1-bd35fdcea418",
   "metadata": {},
   "outputs": [
    {
     "data": {
      "text/plain": [
       "array([[5, 1, 2]])"
      ]
     },
     "execution_count": 91,
     "metadata": {},
     "output_type": "execute_result"
    }
   ],
   "source": [
    "M[1:2][0:1]"
   ]
  },
  {
   "cell_type": "code",
   "execution_count": 92,
   "id": "ae1121cd-3c0c-43b5-ac02-b003477c3584",
   "metadata": {},
   "outputs": [
    {
     "data": {
      "text/plain": [
       "array([[5, 1, 2]])"
      ]
     },
     "execution_count": 92,
     "metadata": {},
     "output_type": "execute_result"
    }
   ],
   "source": [
    "M[1:2][0:2]"
   ]
  },
  {
   "cell_type": "code",
   "execution_count": 93,
   "id": "f59389dd-d706-40dd-b8dd-a76d3f290120",
   "metadata": {},
   "outputs": [
    {
     "data": {
      "text/plain": [
       "array([[2, 3, 4]])"
      ]
     },
     "execution_count": 93,
     "metadata": {},
     "output_type": "execute_result"
    }
   ],
   "source": [
    "M[0:2][0:1]"
   ]
  },
  {
   "cell_type": "code",
   "execution_count": 94,
   "id": "38130576-ea68-405d-9d3c-08db95d86219",
   "metadata": {},
   "outputs": [
    {
     "data": {
      "text/plain": [
       "array([], shape=(0, 3), dtype=int32)"
      ]
     },
     "execution_count": 94,
     "metadata": {},
     "output_type": "execute_result"
    }
   ],
   "source": [
    "M[0:1][1:3]"
   ]
  },
  {
   "cell_type": "code",
   "execution_count": 97,
   "id": "8284de7a-c193-40b5-8c5e-ef91fec0b648",
   "metadata": {},
   "outputs": [],
   "source": [
    "M1=M.reshape(3,3)"
   ]
  },
  {
   "cell_type": "code",
   "execution_count": 98,
   "id": "59cc6002-91d2-44bc-8560-eca086a514b9",
   "metadata": {},
   "outputs": [
    {
     "data": {
      "text/plain": [
       "array([[2, 3, 4],\n",
       "       [5, 1, 2],\n",
       "       [7, 8, 9]])"
      ]
     },
     "execution_count": 98,
     "metadata": {},
     "output_type": "execute_result"
    }
   ],
   "source": [
    "M1"
   ]
  },
  {
   "cell_type": "code",
   "execution_count": 102,
   "id": "cabf6e3a-f685-4b8c-a35c-7c7acc5aa497",
   "metadata": {},
   "outputs": [
    {
     "data": {
      "text/plain": [
       "array([2, 3, 4, 5, 1, 2, 7, 8, 9])"
      ]
     },
     "execution_count": 102,
     "metadata": {},
     "output_type": "execute_result"
    }
   ],
   "source": [
    "M.flatten()"
   ]
  },
  {
   "cell_type": "code",
   "execution_count": 103,
   "id": "bef0d9a5-fe91-4f74-9fa3-9a89889fd224",
   "metadata": {},
   "outputs": [
    {
     "data": {
      "text/plain": [
       "array([[2, 5, 7],\n",
       "       [3, 1, 8],\n",
       "       [4, 2, 9]])"
      ]
     },
     "execution_count": 103,
     "metadata": {},
     "output_type": "execute_result"
    }
   ],
   "source": [
    "M.T"
   ]
  },
  {
   "cell_type": "code",
   "execution_count": 104,
   "id": "77f45ece-9012-4ba7-8206-92a635d5097d",
   "metadata": {},
   "outputs": [
    {
     "data": {
      "text/plain": [
       "1"
      ]
     },
     "execution_count": 104,
     "metadata": {},
     "output_type": "execute_result"
    }
   ],
   "source": [
    "M.min()"
   ]
  },
  {
   "cell_type": "code",
   "execution_count": 105,
   "id": "ca99cdf8-479d-40af-89a0-01422bede8a8",
   "metadata": {},
   "outputs": [
    {
     "data": {
      "text/plain": [
       "array([2, 1, 7])"
      ]
     },
     "execution_count": 105,
     "metadata": {},
     "output_type": "execute_result"
    }
   ],
   "source": [
    "M.min(axis=1)"
   ]
  },
  {
   "cell_type": "code",
   "execution_count": 106,
   "id": "e1ef5860-cddb-4cdf-b4e1-955b67a8c74b",
   "metadata": {},
   "outputs": [
    {
     "data": {
      "text/plain": [
       "array([2, 1, 2])"
      ]
     },
     "execution_count": 106,
     "metadata": {},
     "output_type": "execute_result"
    }
   ],
   "source": [
    "M.min(axis=0)"
   ]
  },
  {
   "cell_type": "code",
   "execution_count": 107,
   "id": "377a8428-eed5-4c7b-be30-8d6859a2d15f",
   "metadata": {},
   "outputs": [
    {
     "data": {
      "text/plain": [
       "array([14, 12, 15])"
      ]
     },
     "execution_count": 107,
     "metadata": {},
     "output_type": "execute_result"
    }
   ],
   "source": [
    "M.sum(axis=0)"
   ]
  },
  {
   "cell_type": "code",
   "execution_count": 108,
   "id": "3586ac70-6b4e-4773-bf27-33a1ff8f9446",
   "metadata": {},
   "outputs": [
    {
     "data": {
      "text/plain": [
       "array([ 9,  8, 24])"
      ]
     },
     "execution_count": 108,
     "metadata": {},
     "output_type": "execute_result"
    }
   ],
   "source": [
    "M.sum(axis=1)"
   ]
  },
  {
   "cell_type": "code",
   "execution_count": 109,
   "id": "c46a8b60-4bc1-4496-9d0d-3696f3bfdab5",
   "metadata": {},
   "outputs": [
    {
     "data": {
      "text/plain": [
       "array([ 3. , 66. , 77.6,  8. , 22. ,  5. ,  0. ])"
      ]
     },
     "execution_count": 109,
     "metadata": {},
     "output_type": "execute_result"
    }
   ],
   "source": [
    "y"
   ]
  },
  {
   "cell_type": "code",
   "execution_count": 110,
   "id": "34dfcb98-6d83-4c72-82b9-02c946f80dfd",
   "metadata": {},
   "outputs": [
    {
     "data": {
      "text/plain": [
       "8"
      ]
     },
     "execution_count": 110,
     "metadata": {},
     "output_type": "execute_result"
    }
   ],
   "source": [
    "M.argmax()"
   ]
  },
  {
   "cell_type": "code",
   "execution_count": 111,
   "id": "5c1c70e4-2cb8-4d8d-942f-84a943bfaa5b",
   "metadata": {},
   "outputs": [
    {
     "data": {
      "text/plain": [
       "array([[2, 3, 4],\n",
       "       [5, 1, 2],\n",
       "       [7, 8, 9]])"
      ]
     },
     "execution_count": 111,
     "metadata": {},
     "output_type": "execute_result"
    }
   ],
   "source": [
    "M"
   ]
  },
  {
   "cell_type": "code",
   "execution_count": 112,
   "id": "93325ec4-48ef-44dc-9c8f-b45cc0370aa2",
   "metadata": {},
   "outputs": [
    {
     "data": {
      "text/plain": [
       "array([ 3. , 66. , 77.6,  8. , 22. ,  5. ,  0. ])"
      ]
     },
     "execution_count": 112,
     "metadata": {},
     "output_type": "execute_result"
    }
   ],
   "source": [
    "y"
   ]
  },
  {
   "cell_type": "code",
   "execution_count": 113,
   "id": "45299459-4e95-4d41-9178-dac7d8e8d028",
   "metadata": {},
   "outputs": [
    {
     "data": {
      "text/plain": [
       "2"
      ]
     },
     "execution_count": 113,
     "metadata": {},
     "output_type": "execute_result"
    }
   ],
   "source": [
    "y.argmax()"
   ]
  },
  {
   "cell_type": "code",
   "execution_count": 114,
   "id": "ed74b725-62d6-415f-b537-e011f1be0ac4",
   "metadata": {},
   "outputs": [],
   "source": [
    "M = M.astype(np.int16)"
   ]
  },
  {
   "cell_type": "code",
   "execution_count": 115,
   "id": "9902ab99-453a-45f5-87de-59fa423a96df",
   "metadata": {},
   "outputs": [
    {
     "data": {
      "text/plain": [
       "array([[2, 3, 4],\n",
       "       [5, 1, 2],\n",
       "       [7, 8, 9]], dtype=int16)"
      ]
     },
     "execution_count": 115,
     "metadata": {},
     "output_type": "execute_result"
    }
   ],
   "source": [
    "M"
   ]
  },
  {
   "cell_type": "code",
   "execution_count": 116,
   "id": "bc7a4fe1-6205-4e10-9a33-204f8701401c",
   "metadata": {},
   "outputs": [],
   "source": [
    "M = M.astype(np.float16)"
   ]
  },
  {
   "cell_type": "code",
   "execution_count": 117,
   "id": "9e9522db-7be3-4d38-b525-0df136daccf5",
   "metadata": {},
   "outputs": [
    {
     "data": {
      "text/plain": [
       "array([[2., 3., 4.],\n",
       "       [5., 1., 2.],\n",
       "       [7., 8., 9.]], dtype=float16)"
      ]
     },
     "execution_count": 117,
     "metadata": {},
     "output_type": "execute_result"
    }
   ],
   "source": [
    "M"
   ]
  },
  {
   "cell_type": "code",
   "execution_count": 119,
   "id": "c8671421-2a57-46be-87f0-067e6eaa691b",
   "metadata": {},
   "outputs": [
    {
     "data": {
      "text/plain": [
       "array([244,  66,  77,   8,  22,   5], dtype=uint8)"
      ]
     },
     "execution_count": 119,
     "metadata": {},
     "output_type": "execute_result"
    }
   ],
   "source": [
    "x"
   ]
  },
  {
   "cell_type": "code",
   "execution_count": 120,
   "id": "3db8b83c-9ffd-46fd-b5d3-adf56e8d6bd7",
   "metadata": {},
   "outputs": [],
   "source": [
    "y=x"
   ]
  },
  {
   "cell_type": "code",
   "execution_count": 121,
   "id": "55d723d0-161e-44b3-b730-5b5256e1c48b",
   "metadata": {},
   "outputs": [
    {
     "data": {
      "text/plain": [
       "array([244,  66,  77,   8,  22,   5], dtype=uint8)"
      ]
     },
     "execution_count": 121,
     "metadata": {},
     "output_type": "execute_result"
    }
   ],
   "source": [
    "y"
   ]
  },
  {
   "cell_type": "code",
   "execution_count": 122,
   "id": "4be861e2-d54a-45ea-87cb-618c67283ea2",
   "metadata": {},
   "outputs": [],
   "source": [
    "y[0]=20"
   ]
  },
  {
   "cell_type": "code",
   "execution_count": 123,
   "id": "93e94545-f529-4731-b0d8-2568d12b2ebd",
   "metadata": {},
   "outputs": [
    {
     "data": {
      "text/plain": [
       "array([20, 66, 77,  8, 22,  5], dtype=uint8)"
      ]
     },
     "execution_count": 123,
     "metadata": {},
     "output_type": "execute_result"
    }
   ],
   "source": [
    "y"
   ]
  },
  {
   "cell_type": "code",
   "execution_count": 124,
   "id": "191c1cca-1d05-4f15-a552-91a83cc5dfb0",
   "metadata": {},
   "outputs": [
    {
     "data": {
      "text/plain": [
       "array([20, 66, 77,  8, 22,  5], dtype=uint8)"
      ]
     },
     "execution_count": 124,
     "metadata": {},
     "output_type": "execute_result"
    }
   ],
   "source": [
    "x"
   ]
  },
  {
   "cell_type": "code",
   "execution_count": 125,
   "id": "bf161267-c488-4f47-8757-7e7b43000e67",
   "metadata": {},
   "outputs": [
    {
     "data": {
      "text/plain": [
       "2349810950256"
      ]
     },
     "execution_count": 125,
     "metadata": {},
     "output_type": "execute_result"
    }
   ],
   "source": [
    "id(y)"
   ]
  },
  {
   "cell_type": "code",
   "execution_count": 126,
   "id": "8c7df180-f30e-401e-993b-480445e5185c",
   "metadata": {},
   "outputs": [
    {
     "data": {
      "text/plain": [
       "2349810950256"
      ]
     },
     "execution_count": 126,
     "metadata": {},
     "output_type": "execute_result"
    }
   ],
   "source": [
    "id(x)"
   ]
  },
  {
   "cell_type": "code",
   "execution_count": 127,
   "id": "b72fc0c9-d316-424b-b166-6db52619c9e4",
   "metadata": {},
   "outputs": [
    {
     "data": {
      "text/plain": [
       "array([20, 66, 77,  8, 22,  5], dtype=uint8)"
      ]
     },
     "execution_count": 127,
     "metadata": {},
     "output_type": "execute_result"
    }
   ],
   "source": [
    "x"
   ]
  },
  {
   "cell_type": "code",
   "execution_count": 128,
   "id": "8c6d1908-57f5-45a2-89ee-362b5d0fd6ff",
   "metadata": {},
   "outputs": [],
   "source": [
    "y = x.copy"
   ]
  },
  {
   "cell_type": "code",
   "execution_count": 131,
   "id": "7b6393f3-a53c-4dcb-a00c-16da943c9ecd",
   "metadata": {},
   "outputs": [],
   "source": [
    "y = x.copy()"
   ]
  },
  {
   "cell_type": "code",
   "execution_count": 132,
   "id": "6065346a-ffde-4696-b422-c0e0fb68f76d",
   "metadata": {},
   "outputs": [],
   "source": [
    "y[0]=28"
   ]
  },
  {
   "cell_type": "code",
   "execution_count": 133,
   "id": "ff95b9c3-6008-4291-aeea-ee6bbddb3553",
   "metadata": {},
   "outputs": [
    {
     "data": {
      "text/plain": [
       "array([28, 66, 77,  8, 22,  5], dtype=uint8)"
      ]
     },
     "execution_count": 133,
     "metadata": {},
     "output_type": "execute_result"
    }
   ],
   "source": [
    "y"
   ]
  },
  {
   "cell_type": "code",
   "execution_count": 134,
   "id": "44170b34-6cd9-4add-8248-51f3cdab5b74",
   "metadata": {},
   "outputs": [
    {
     "data": {
      "text/plain": [
       "array([20, 66, 77,  8, 22,  5], dtype=uint8)"
      ]
     },
     "execution_count": 134,
     "metadata": {},
     "output_type": "execute_result"
    }
   ],
   "source": [
    "x"
   ]
  },
  {
   "cell_type": "code",
   "execution_count": 135,
   "id": "375a3700-d66d-401e-a997-d5da4ec30dfa",
   "metadata": {},
   "outputs": [
    {
     "data": {
      "text/plain": [
       "2349810950256"
      ]
     },
     "execution_count": 135,
     "metadata": {},
     "output_type": "execute_result"
    }
   ],
   "source": [
    "id(x)"
   ]
  },
  {
   "cell_type": "code",
   "execution_count": 136,
   "id": "27acf645-6fc6-4e94-ab78-226e7e0d4453",
   "metadata": {},
   "outputs": [
    {
     "data": {
      "text/plain": [
       "2349835472880"
      ]
     },
     "execution_count": 136,
     "metadata": {},
     "output_type": "execute_result"
    }
   ],
   "source": [
    "id(y)"
   ]
  },
  {
   "cell_type": "code",
   "execution_count": null,
   "id": "26832db1-5751-410f-8f64-21256c705d6a",
   "metadata": {},
   "outputs": [],
   "source": []
  }
 ],
 "metadata": {
  "kernelspec": {
   "display_name": "Python 3 (ipykernel)",
   "language": "python",
   "name": "python3"
  },
  "language_info": {
   "codemirror_mode": {
    "name": "ipython",
    "version": 3
   },
   "file_extension": ".py",
   "mimetype": "text/x-python",
   "name": "python",
   "nbconvert_exporter": "python",
   "pygments_lexer": "ipython3",
   "version": "3.11.7"
  }
 },
 "nbformat": 4,
 "nbformat_minor": 5
}
