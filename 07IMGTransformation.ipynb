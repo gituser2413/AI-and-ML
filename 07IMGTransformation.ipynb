{
 "cells": [
  {
   "cell_type": "code",
   "execution_count": 1,
   "id": "f6b0eff5-1a10-4d17-b0c9-dd8812071caa",
   "metadata": {},
   "outputs": [],
   "source": [
    "import cv2"
   ]
  },
  {
   "cell_type": "code",
   "execution_count": 2,
   "id": "0abc2db1-f5e8-413f-8f38-a43db2a294fd",
   "metadata": {},
   "outputs": [],
   "source": [
    "import numpy as np"
   ]
  },
  {
   "cell_type": "code",
   "execution_count": 5,
   "id": "9e42a17a-00f5-4a8d-baa6-a1916c2c2c2d",
   "metadata": {},
   "outputs": [],
   "source": [
    "import matplotlib.pyplot as plt"
   ]
  },
  {
   "cell_type": "code",
   "execution_count": 7,
   "id": "19a5f3b0-46ff-43e5-9d91-10308f23b5b7",
   "metadata": {},
   "outputs": [],
   "source": [
    "image = cv2.imread(\"images/lenna.png\")\n",
    "\n",
    "height,width =image.shape[:2]\n",
    "\n",
    "quarter_height ,quarter_width = height/4 ,width/4\n",
    "\n",
    "T = np.float32([ [1,0,quarter_width] ,[0,1,quarter_height] ])\n",
    "\n",
    "img_translation = cv2.warpAffine(image , T ,(width ,height))"
   ]
  },
  {
   "cell_type": "code",
   "execution_count": 8,
   "id": "fcdfed28-5d45-459a-9926-de620d7ff000",
   "metadata": {},
   "outputs": [
    {
     "data": {
      "text/plain": [
       "array([[  1.,   0., 128.],\n",
       "       [  0.,   1., 128.]], dtype=float32)"
      ]
     },
     "execution_count": 8,
     "metadata": {},
     "output_type": "execute_result"
    }
   ],
   "source": [
    "T"
   ]
  },
  {
   "cell_type": "code",
   "execution_count": 9,
   "id": "c47714ff-ff4b-4315-bc7e-0231937e9584",
   "metadata": {},
   "outputs": [],
   "source": [
    "cv2.imshow(\"Original IMG\", image)\n",
    "cv2.imshow(\"Translated IMG\",img_translation)\n",
    "cv2.waitKey(0)\n",
    "cv2.destroyAllWindows()"
   ]
  },
  {
   "cell_type": "code",
   "execution_count": 11,
   "id": "4de3bf90-e75f-4b55-9ce9-fe53d6d448e8",
   "metadata": {
    "scrolled": true
   },
   "outputs": [],
   "source": [
    "T = np.float32([ [1,0,-40] ,[0,1,100 ] ])\n",
    "img_translation = cv2.warpAffine(image , T ,(width ,height))\n",
    "cv2.imshow(\"Original IMG\", image)\n",
    "cv2.imshow(\"Translated IMG\",img_translation)\n",
    "cv2.waitKey(0)\n",
    "cv2.destroyAllWindows()\n"
   ]
  },
  {
   "cell_type": "code",
   "execution_count": 12,
   "id": "73eaf55f-d56f-414d-8b41-3e8c712a9dfb",
   "metadata": {},
   "outputs": [
    {
     "data": {
      "text/plain": [
       "array([[  1.,   0., -40.],\n",
       "       [  0.,   1., 100.]], dtype=float32)"
      ]
     },
     "execution_count": 12,
     "metadata": {},
     "output_type": "execute_result"
    }
   ],
   "source": [
    "T"
   ]
  },
  {
   "cell_type": "code",
   "execution_count": 18,
   "id": "e2685dbd-f61d-491d-8795-023195c1b8d8",
   "metadata": {},
   "outputs": [],
   "source": [
    "T = np.float32([ [1,0,-40] ,[0,1,100 ] ])\n",
    "img_translation = cv2.warpAffine(image , T ,(width+100,height+100))\n",
    "\n",
    "cv2.imshow(\"Original IMG\", image)\n",
    "cv2.imshow(\"Translated IMG\",img_translation)\n",
    "cv2.waitKey(0)\n",
    "cv2.destroyAllWindows()\n"
   ]
  },
  {
   "cell_type": "code",
   "execution_count": 16,
   "id": "4d3f9f0f-691f-4f07-a8f3-001f78baf8fa",
   "metadata": {},
   "outputs": [
    {
     "data": {
      "text/plain": [
       "array([[  1.,   0., -40.],\n",
       "       [  0.,   1., 100.]], dtype=float32)"
      ]
     },
     "execution_count": 16,
     "metadata": {},
     "output_type": "execute_result"
    }
   ],
   "source": [
    "T"
   ]
  },
  {
   "cell_type": "code",
   "execution_count": null,
   "id": "4f9fcab1-f3b6-4df1-b63c-aa07fa945ab3",
   "metadata": {},
   "outputs": [],
   "source": []
  }
 ],
 "metadata": {
  "kernelspec": {
   "display_name": "Python 3 (ipykernel)",
   "language": "python",
   "name": "python3"
  },
  "language_info": {
   "codemirror_mode": {
    "name": "ipython",
    "version": 3
   },
   "file_extension": ".py",
   "mimetype": "text/x-python",
   "name": "python",
   "nbconvert_exporter": "python",
   "pygments_lexer": "ipython3",
   "version": "3.11.7"
  }
 },
 "nbformat": 4,
 "nbformat_minor": 5
}
