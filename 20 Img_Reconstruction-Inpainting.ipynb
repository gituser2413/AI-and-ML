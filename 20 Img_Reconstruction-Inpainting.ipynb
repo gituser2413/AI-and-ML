{
 "cells": [
  {
   "cell_type": "code",
   "execution_count": 1,
   "id": "b53d8eef-84f6-4dc4-8ab6-26b8403a291b",
   "metadata": {},
   "outputs": [],
   "source": [
    "import cv2\n",
    "import numpy as np\n",
    "import matplotlib.pyplot as plt"
   ]
  },
  {
   "cell_type": "code",
   "execution_count": 3,
   "id": "ec7499fd-2422-44db-94e3-39efd3b478dc",
   "metadata": {},
   "outputs": [],
   "source": [
    "img = cv2.imread(\"images/cat_damaged.png\")"
   ]
  },
  {
   "cell_type": "code",
   "execution_count": 4,
   "id": "82032fda-1c2d-4770-8953-06f6c290d575",
   "metadata": {},
   "outputs": [],
   "source": [
    "cv2.imshow(\"Damaged Img\",img)\n",
    "cv2.waitKey(0)\n",
    "cv2.destroyAllWindows()"
   ]
  },
  {
   "cell_type": "code",
   "execution_count": 5,
   "id": "b3300b5f-686a-4520-9cb3-4ca2729e0819",
   "metadata": {},
   "outputs": [],
   "source": [
    "height,width = img.shape[:2]"
   ]
  },
  {
   "cell_type": "code",
   "execution_count": 6,
   "id": "24229b12-16a0-4569-ad60-42195a4f5c51",
   "metadata": {},
   "outputs": [
    {
     "data": {
      "text/plain": [
       "(400, 400)"
      ]
     },
     "execution_count": 6,
     "metadata": {},
     "output_type": "execute_result"
    }
   ],
   "source": [
    "height,width"
   ]
  },
  {
   "cell_type": "code",
   "execution_count": 23,
   "id": "e33095a6-3b38-43e7-9a01-8312c97e2efc",
   "metadata": {},
   "outputs": [],
   "source": [
    "mask = np.zeros([height,width,3], dtype = np.uint8)"
   ]
  },
  {
   "cell_type": "code",
   "execution_count": 10,
   "id": "8d5650fa-fe12-450b-bcf8-4bc8f43c12b2",
   "metadata": {},
   "outputs": [],
   "source": [
    "cv2.imshow(\"Mask\",mask)\n",
    "cv2.waitKey(0)\n",
    "cv2.destroyAllWindows()"
   ]
  },
  {
   "cell_type": "code",
   "execution_count": 25,
   "id": "76cd917c-ad5d-44d1-b924-1f027a9edc0c",
   "metadata": {},
   "outputs": [],
   "source": [
    "for i in range(height):\n",
    "    for j in range(width):\n",
    "        if img[i,j].sum()==0:\n",
    "            mask[i,j]=[255,255,255]\n",
    "            "
   ]
  },
  {
   "cell_type": "code",
   "execution_count": 26,
   "id": "a5112afb-c736-4f77-acd6-039041cb8fa6",
   "metadata": {},
   "outputs": [],
   "source": [
    "cv2.imshow(\"Mask\",mask)\n",
    "cv2.waitKey(0)\n",
    "cv2.destroyAllWindows()"
   ]
  },
  {
   "cell_type": "code",
   "execution_count": 27,
   "id": "f29cf195-a017-4363-8ac9-2e4f1a165b72",
   "metadata": {},
   "outputs": [],
   "source": [
    "mask = cv2.cvtColor(mask,cv2.COLOR_BGR2GRAY)"
   ]
  },
  {
   "cell_type": "code",
   "execution_count": 24,
   "id": "895ec961-172f-4c98-8ad2-199b0a9dc5f7",
   "metadata": {},
   "outputs": [
    {
     "data": {
      "text/plain": [
       "(400, 400, 3)"
      ]
     },
     "execution_count": 24,
     "metadata": {},
     "output_type": "execute_result"
    }
   ],
   "source": [
    "mask.shape"
   ]
  },
  {
   "cell_type": "code",
   "execution_count": 28,
   "id": "a4ac16e7-a96f-4d88-8d78-d40dea7e37a0",
   "metadata": {},
   "outputs": [],
   "source": [
    "dst = cv2.inpaint(img,mask,3,cv2.INPAINT_NS)"
   ]
  },
  {
   "cell_type": "code",
   "execution_count": 29,
   "id": "baa4d17c-2e2a-45fc-9c33-149d3e4e7a03",
   "metadata": {},
   "outputs": [],
   "source": [
    "cv2.imshow(\"Final Img\",dst)\n",
    "cv2.waitKey(0)\n",
    "cv2.destroyAllWindows()"
   ]
  },
  {
   "cell_type": "code",
   "execution_count": null,
   "id": "c0334f2a-3138-4266-bbe5-36ebfd2c73d9",
   "metadata": {},
   "outputs": [],
   "source": []
  }
 ],
 "metadata": {
  "kernelspec": {
   "display_name": "Python 3 (ipykernel)",
   "language": "python",
   "name": "python3"
  },
  "language_info": {
   "codemirror_mode": {
    "name": "ipython",
    "version": 3
   },
   "file_extension": ".py",
   "mimetype": "text/x-python",
   "name": "python",
   "nbconvert_exporter": "python",
   "pygments_lexer": "ipython3",
   "version": "3.11.7"
  }
 },
 "nbformat": 4,
 "nbformat_minor": 5
}
