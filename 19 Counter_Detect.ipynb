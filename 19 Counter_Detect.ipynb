{
 "cells": [
  {
   "cell_type": "code",
   "execution_count": 7,
   "id": "5a245bcf-a1a9-4770-a1b8-4b0ae5ee40ad",
   "metadata": {},
   "outputs": [],
   "source": [
    "import cv2\n",
    "img = cv2.imread(\"images/circle.png\",0)\n",
    "\n",
    "#Creates a binary img pixel above 127 are set to 255(white), and others to 0(black)\n",
    "thresh =cv2.threshold(img,127,255,cv2.THRESH_BINARY)[1]\n",
    "\n",
    "#cv2.findCounters finds counters in the binary img.\n",
    "#cv2.RETR_TREE retrieve all counters and creat a hierachy tree \n",
    "#cv2.CHAIN_APPROX_SIMPLE approximate countersto save memory\n",
    "\n",
    "counters,hierachy = cv2.findContours(thresh ,cv2.RETR_TREE , cv2.CHAIN_APPROX_SIMPLE)\n",
    "cv2.drawContours(img,counters , -1,(0,255,0),2)\n",
    "\n",
    "# -1 draws all counters\n",
    "#(0,255,0) is the color green\n",
    "cv2.imshow(\"original Images\",img)\n",
    "cv2.imshow(\"Counter Detection  Images\",thresh)\n",
    "\n",
    "cv2.waitKey(0)\n",
    "cv2.destroyAllWindows()"
   ]
  },
  {
   "cell_type": "code",
   "execution_count": 13,
   "id": "f508939e-7bab-43bd-94ef-7b045589d868",
   "metadata": {},
   "outputs": [],
   "source": [
    "img = cv2.imread(\"images/circle.png\")\n",
    "gray = cv2.cvtColor(img ,cv2.COLOR_BGR2GRAY)\n",
    "#Creates a binary img pixel above 127 are set to 255(white), and others to 0(black)\n",
    "thresh =cv2.threshold(gray,127,255,cv2.THRESH_BINARY)[1]\n",
    "\n",
    "#cv2.findCounters finds counters in the binary img.\n",
    "#cv2.RETR_TREE retrieve all counters and creat a hierachy tree \n",
    "#cv2.CHAIN_APPROX_SIMPLE approximate countersto save memory\n",
    "\n",
    "counters,hierachy = cv2.findContours(thresh ,cv2.RETR_TREE , cv2.CHAIN_APPROX_SIMPLE)\n",
    "cv2.drawContours(gray,counters , -1,(0,255,0),2)\n",
    "\n",
    "# -1 draws all counters\n",
    "#(0,255,0) is the color green\n",
    "cv2.imshow(\"original Images\",img)\n",
    "cv2.imshow(\"Counter Detection  Images\",thresh)\n",
    "\n",
    "cv2.waitKey(0)\n",
    "cv2.destroyAllWindows()"
   ]
  },
  {
   "cell_type": "code",
   "execution_count": null,
   "id": "81e929a2-f7cf-4202-ab0b-d5e56aff0bae",
   "metadata": {},
   "outputs": [],
   "source": []
  },
  {
   "cell_type": "code",
   "execution_count": 14,
   "id": "e6c4f093-6b79-4ac4-9afc-85534dd9cbd2",
   "metadata": {},
   "outputs": [],
   "source": [
    "img = cv2.imread(\"images/donuts.png\")\n",
    "gray = cv2.cvtColor(img ,cv2.COLOR_BGR2GRAY)\n",
    "#Creates a binary img pixel above 127 are set to 255(white), and others to 0(black)\n",
    "thresh =cv2.threshold(gray,127,255,cv2.THRESH_BINARY)[1]\n",
    "\n",
    "#cv2.findCounters finds counters in the binary img.\n",
    "#cv2.RETR_TREE retrieve all counters and creat a hierachy tree \n",
    "#cv2.CHAIN_APPROX_SIMPLE approximate countersto save memory\n",
    "\n",
    "counters,hierachy = cv2.findContours(thresh ,cv2.RETR_TREE , cv2.CHAIN_APPROX_SIMPLE)\n",
    "cv2.drawContours(gray,counters , -1,(0,255,0),2)\n",
    "\n",
    "# -1 draws all counters\n",
    "#(0,255,0) is the color green\n",
    "cv2.imshow(\"original Images\",img)\n",
    "cv2.imshow(\"Counter Detection  Images\",thresh)\n",
    "\n",
    "cv2.waitKey(0)\n",
    "cv2.destroyAllWindows()"
   ]
  },
  {
   "cell_type": "code",
   "execution_count": 15,
   "id": "f3630ae1-3f5d-49b5-96e4-a4e3389f15a4",
   "metadata": {},
   "outputs": [],
   "source": []
  },
  {
   "cell_type": "code",
   "execution_count": null,
   "id": "9483c822-208f-418e-afdc-2e8e733454a5",
   "metadata": {},
   "outputs": [],
   "source": []
  }
 ],
 "metadata": {
  "kernelspec": {
   "display_name": "Python 3 (ipykernel)",
   "language": "python",
   "name": "python3"
  },
  "language_info": {
   "codemirror_mode": {
    "name": "ipython",
    "version": 3
   },
   "file_extension": ".py",
   "mimetype": "text/x-python",
   "name": "python",
   "nbconvert_exporter": "python",
   "pygments_lexer": "ipython3",
   "version": "3.11.7"
  }
 },
 "nbformat": 4,
 "nbformat_minor": 5
}
