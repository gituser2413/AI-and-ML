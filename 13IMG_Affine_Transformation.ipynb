{
 "cells": [
  {
   "cell_type": "code",
   "execution_count": 1,
   "id": "683260f1-3a36-4d15-8935-4da159d1c2ed",
   "metadata": {},
   "outputs": [],
   "source": [
    "#All Togather scalling,Translation ,Rotation ,Shearing"
   ]
  },
  {
   "cell_type": "code",
   "execution_count": 2,
   "id": "1f8b97d2-6b61-4b21-96fe-db658806165c",
   "metadata": {},
   "outputs": [],
   "source": [
    "import cv2"
   ]
  },
  {
   "cell_type": "code",
   "execution_count": 3,
   "id": "feca92e7-7a28-41a8-8117-9e941fcce528",
   "metadata": {},
   "outputs": [],
   "source": [
    "import numpy as np"
   ]
  },
  {
   "cell_type": "code",
   "execution_count": 4,
   "id": "9610455c-99ab-4982-b563-90810ceba31e",
   "metadata": {},
   "outputs": [],
   "source": [
    "image = cv2.imread(\"images/lenna.png\")"
   ]
  },
  {
   "cell_type": "code",
   "execution_count": 5,
   "id": "39e57891-0824-43cb-b475-72194bc65231",
   "metadata": {},
   "outputs": [],
   "source": [
    "#Define Transformation parameters\n",
    "\n",
    "\n",
    "tx = 50\n",
    "ty= 100\n",
    "angle =45\n",
    "scale =1.2\n",
    "shear_x =0.3\n",
    "shear_y =0.2"
   ]
  },
  {
   "cell_type": "code",
   "execution_count": 13,
   "id": "6bcf99e0-dcd0-43f0-b592-08cc782ef59f",
   "metadata": {},
   "outputs": [],
   "source": [
    "# Create Transformation matrix\n",
    "\n",
    "M= np.float32([[scale* np.cos(np.radians(angle)) , shear_x ,tx],\n",
    "              [shear_y , scale*np.sin(np.radians(angle)), ty]])\n",
    "\n",
    "#Apply Transformation using warpAffine\n",
    "\n",
    "img_affine = cv2.warpAffine(image , M,(512,512))\n",
    "\n",
    "#Display original and Affine Transformed Img.\n",
    "final_img = np.hstack([image,img_affine])\n",
    "cv2.imshow(\"Original IMG\",image )\n",
    "cv2.imshow(\"Affine Transformed IMG\",img_affine )\n",
    "# Horizontal Stacking\n",
    "cv2.imshow(\" Stacked Affine Transformed IMG\",final_img )\n",
    "cv2.waitKey(0) \n",
    "cv2.destroyAllWindows()"
   ]
  },
  {
   "cell_type": "code",
   "execution_count": null,
   "id": "036b7bb4-a63c-49c1-8e3a-2e846e4119c6",
   "metadata": {},
   "outputs": [],
   "source": []
  }
 ],
 "metadata": {
  "kernelspec": {
   "display_name": "Python 3 (ipykernel)",
   "language": "python",
   "name": "python3"
  },
  "language_info": {
   "codemirror_mode": {
    "name": "ipython",
    "version": 3
   },
   "file_extension": ".py",
   "mimetype": "text/x-python",
   "name": "python",
   "nbconvert_exporter": "python",
   "pygments_lexer": "ipython3",
   "version": "3.11.7"
  }
 },
 "nbformat": 4,
 "nbformat_minor": 5
}
