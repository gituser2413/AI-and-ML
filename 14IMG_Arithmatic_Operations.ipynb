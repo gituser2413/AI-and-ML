{
 "cells": [
  {
   "cell_type": "code",
   "execution_count": null,
   "id": "1a475eaf-f93f-469a-835e-c85f333543ab",
   "metadata": {},
   "outputs": [],
   "source": [
    "\n"
   ]
  },
  {
   "cell_type": "code",
   "execution_count": null,
   "id": "c981abdd-102e-4511-b3c7-2d5c4c745415",
   "metadata": {},
   "outputs": [],
   "source": [
    "import cv2\n",
    "\n",
    "#load the img.\n",
    "image1 = cv2.imread(\"images/lenna.png\")\n",
    "image2 = cv2.imread(\"images/sun.png\")"
   ]
  },
  {
   "cell_type": "code",
   "execution_count": 1,
   "id": "c036e26c-d008-4621-85b6-f98e44c315c2",
   "metadata": {},
   "outputs": [
    {
     "ename": "NameError",
     "evalue": "name 'cv2' is not defined",
     "output_type": "error",
     "traceback": [
      "\u001b[1;31m---------------------------------------------------------------------------\u001b[0m",
      "\u001b[1;31mNameError\u001b[0m                                 Traceback (most recent call last)",
      "Cell \u001b[1;32mIn[1], line 1\u001b[0m\n\u001b[1;32m----> 1\u001b[0m cv2\u001b[38;5;241m.\u001b[39mimshow(\u001b[38;5;124m\"\u001b[39m\u001b[38;5;124m1\u001b[39m\u001b[38;5;124m\"\u001b[39m,image1)\n\u001b[0;32m      2\u001b[0m cv2\u001b[38;5;241m.\u001b[39mimshow(\u001b[38;5;124m\"\u001b[39m\u001b[38;5;124m2\u001b[39m\u001b[38;5;124m\"\u001b[39m,image2)\n\u001b[0;32m      3\u001b[0m cv2\u001b[38;5;241m.\u001b[39mwaitKey(\u001b[38;5;241m0\u001b[39m) \n",
      "\u001b[1;31mNameError\u001b[0m: name 'cv2' is not defined"
     ]
    }
   ],
   "source": [
    "cv2.imshow(\"1\",image1)\n",
    "cv2.imshow(\"2\",image2)\n",
    "cv2.waitKey(0) \n",
    "cv2.destroyAllWindows()"
   ]
  },
  {
   "cell_type": "code",
   "execution_count": null,
   "id": "681b13c9-69c4-41c8-adb9-7ce68fa437d7",
   "metadata": {},
   "outputs": [],
   "source": [
    "image1.shape ,image2.shape "
   ]
  },
  {
   "cell_type": "code",
   "execution_count": null,
   "id": "e1fd215a-12a6-4b5e-9ca1-6a9ef0697dc1",
   "metadata": {},
   "outputs": [],
   "source": [
    "Added_image=cv2.add(image1,image2)"
   ]
  },
  {
   "cell_type": "code",
   "execution_count": null,
   "id": "7cfdb5e2-919c-4bed-b5ee-ee72af0f10db",
   "metadata": {},
   "outputs": [],
   "source": [
    "cv2.imshow(\"NEW_ADDED_IMG\",Added_image)\n",
    "cv2.waitKey(0) \n",
    "cv2.destroyAllWindows()"
   ]
  },
  {
   "cell_type": "code",
   "execution_count": null,
   "id": "2275a44f-96ef-4fd1-976c-b870146b02ae",
   "metadata": {},
   "outputs": [],
   "source": [
    "#Addition of two imges (Both SIZE should be same.)\n",
    "#More than trancate maximum value is 255."
   ]
  },
  {
   "cell_type": "code",
   "execution_count": 4,
   "id": "639de8f4-ff50-4fb2-b8e1-60410387d8e8",
   "metadata": {},
   "outputs": [],
   "source": [
    "import matplotlib.pyplot as plt"
   ]
  },
  {
   "cell_type": "code",
   "execution_count": null,
   "id": "093f16d1-47b3-46f4-a9d4-cc27bceb6e1c",
   "metadata": {},
   "outputs": [],
   "source": [
    "img1 =cv2.cvtColor(image1 ,cv2.COLOR_BGR2RGB)\n",
    "\n",
    "img2 =cv2.cvtColor(image2 ,cv2.COLOR_BGR2RGB)\n",
    "\n",
    "added = cv2.cvtColor(Added_image ,cv2.COLOR_BGR2RGB)"
   ]
  },
  {
   "cell_type": "code",
   "execution_count": null,
   "id": "53a0f624-0c40-402e-bfa4-ecf42eba9c84",
   "metadata": {},
   "outputs": [],
   "source": [
    "plt.figure(figsize=(16,9))\n",
    "plt.subplot(1,3,1)\n",
    "plt.title(\"Original IMG1\")\n",
    "plt.imshow(img1)\n",
    "plt.subplot(1,3,2)\n",
    "plt.title(\"Original IMG2\")\n",
    "plt.imshow(img2)\n",
    "plt.subplot(1,3,3)\n",
    "plt.title(\"Added Img\")\n",
    "plt.imshow(added)"
   ]
  },
  {
   "cell_type": "code",
   "execution_count": null,
   "id": "b98bab8c-4919-4bd1-b6b0-f48344b649de",
   "metadata": {},
   "outputs": [],
   "source": []
  },
  {
   "cell_type": "code",
   "execution_count": null,
   "id": "b499b67e-8b62-4805-bbac-b8f2e50b587b",
   "metadata": {},
   "outputs": [],
   "source": [
    "#substraction of two imges"
   ]
  },
  {
   "cell_type": "code",
   "execution_count": null,
   "id": "5d74338f-f7d9-4b25-87e3-bd60a11245f7",
   "metadata": {},
   "outputs": [],
   "source": [
    "Substracted_image=cv2.subtract(img1,img2)"
   ]
  },
  {
   "cell_type": "code",
   "execution_count": null,
   "id": "5123fb8a-4283-4154-b009-e0e6b273ad66",
   "metadata": {},
   "outputs": [],
   "source": [
    "plt.figure(figsize=(16,9))\n",
    "plt.subplot(1,3,1)\n",
    "plt.title(\"Original IMG1\")\n",
    "plt.imshow(img1)\n",
    "plt.subplot(1,3,2)\n",
    "plt.title(\"Original IMG2\")\n",
    "plt.imshow(img2)\n",
    "plt.subplot(1,3,3)\n",
    "plt.title(\"Substracted Img\")\n",
    "plt.imshow(Substracted_image)"
   ]
  },
  {
   "cell_type": "code",
   "execution_count": null,
   "id": "d0a512fb-1023-4c31-9a96-138d0eda3083",
   "metadata": {},
   "outputs": [],
   "source": []
  },
  {
   "cell_type": "code",
   "execution_count": null,
   "id": "9ec1e657-c07c-4b19-be6a-5ae7bee88205",
   "metadata": {},
   "outputs": [],
   "source": [
    "# Blanding of Two Imges With Transparency.\n",
    "alpha = 0.25 #Transparency factor\n",
    "\n",
    "\n",
    "blanded_image = cv2.addWeighted(img1 ,alpha , img2 ,1-alpha , 0)"
   ]
  },
  {
   "cell_type": "code",
   "execution_count": null,
   "id": "9e6c40f2-7d16-4b05-b0af-2706e201a07a",
   "metadata": {},
   "outputs": [],
   "source": [
    "plt.figure(figsize=(16,9))\n",
    "plt.subplot(1,3,1)\n",
    "plt.title(\"Original IMG1\")\n",
    "plt.imshow(img1)\n",
    "plt.subplot(1,3,2)\n",
    "plt.title(\"Original IMG2\")\n",
    "plt.imshow(img2)\n",
    "plt.subplot(1,3,3)\n",
    "plt.title(\"Blanded Img\")\n",
    "plt.imshow(blanded_image)"
   ]
  },
  {
   "cell_type": "code",
   "execution_count": null,
   "id": "538cd351-3ec5-4771-8b63-5f7b8035bb5b",
   "metadata": {},
   "outputs": [],
   "source": [
    "alpha = 0.25 #Transparency factor\n",
    "\n",
    "\n",
    "blanded_image = cv2.addWeighted(img1 ,1-alpha , img2 , alpha , 0)"
   ]
  },
  {
   "cell_type": "code",
   "execution_count": null,
   "id": "6425309f-37d0-4e28-87bb-0684d3398645",
   "metadata": {},
   "outputs": [],
   "source": [
    "plt.figure(figsize=(16,9))\n",
    "plt.subplot(1,3,1)\n",
    "plt.title(\"Original IMG1\")\n",
    "plt.imshow(img1)\n",
    "plt.subplot(1,3,2)\n",
    "plt.title(\"Original IMG2\")\n",
    "plt.imshow(img2)\n",
    "plt.subplot(1,3,3)\n",
    "plt.title(\"Blanded Img\")\n",
    "plt.imshow(blanded_image)"
   ]
  },
  {
   "cell_type": "code",
   "execution_count": null,
   "id": "099e03f8-1039-442c-b3fb-41f74548d03e",
   "metadata": {},
   "outputs": [],
   "source": []
  },
  {
   "cell_type": "code",
   "execution_count": null,
   "id": "db82c2ac-8b31-4082-82d7-32728bac980d",
   "metadata": {},
   "outputs": [],
   "source": [
    "#Multiply (FOR Brightness Of Picture)"
   ]
  },
  {
   "cell_type": "code",
   "execution_count": null,
   "id": "5ce50b77-3c6c-4a6e-a9df-bc5982cd52e7",
   "metadata": {},
   "outputs": [],
   "source": [
    "brightend_image = cv2.multiply(img1 ,1.5)  # 1.5 increase brightness."
   ]
  },
  {
   "cell_type": "code",
   "execution_count": null,
   "id": "753815a7-92f9-40e7-b7a1-7dc723a66d98",
   "metadata": {},
   "outputs": [],
   "source": [
    "plt.figure(figsize=(16,9))\n",
    "plt.subplot(1,3,1)\n",
    "plt.title(\"Original IMG\")\n",
    "plt.imshow(img1)\n",
    "plt.subplot(1,3,2)\n",
    "plt.title(\"Brightened IMG\")\n",
    "plt.imshow(brightend_image )\n"
   ]
  },
  {
   "cell_type": "code",
   "execution_count": null,
   "id": "41fcc21d-a6b2-4c79-868a-dc6276ea2e4a",
   "metadata": {},
   "outputs": [],
   "source": [
    "darkened_image = cv2.multiply(img1 ,0.5)  # Less than Zero For Darkner Img."
   ]
  },
  {
   "cell_type": "code",
   "execution_count": null,
   "id": "c7646846-422d-42ed-aee0-ef188b336bd5",
   "metadata": {},
   "outputs": [],
   "source": [
    "plt.figure(figsize=(16,9))\n",
    "plt.subplot(1,3,1)\n",
    "plt.title(\"Original IMG\")\n",
    "plt.imshow(img1)\n",
    "plt.subplot(1,3,2)\n",
    "plt.title(\"Darkner IMG\")\n",
    "plt.imshow(darkened_image)"
   ]
  },
  {
   "cell_type": "code",
   "execution_count": null,
   "id": "47c234e5-5dcf-4658-ad4e-d142de2f1071",
   "metadata": {},
   "outputs": [],
   "source": []
  },
  {
   "cell_type": "markdown",
   "id": "eb995d8d-1fc1-4698-a59b-c95ba2a90d49",
   "metadata": {},
   "source": [
    "##### BitWise AND"
   ]
  },
  {
   "cell_type": "code",
   "execution_count": 1,
   "id": "58d991b3-c1c7-4e22-af90-422a35f3eef2",
   "metadata": {},
   "outputs": [],
   "source": [
    "import cv2\n",
    "\n",
    "#load the img.\n",
    "img1 = cv2.imread(\"images/input1.png\")\n",
    "img2 = cv2.imread(\"images/input2.png\")"
   ]
  },
  {
   "cell_type": "code",
   "execution_count": 2,
   "id": "f024523f-1ece-4a54-a226-281bca047414",
   "metadata": {},
   "outputs": [],
   "source": [
    "dest_AND = cv2.bitwise_and(img2,img1 , mask =None)"
   ]
  },
  {
   "cell_type": "code",
   "execution_count": 5,
   "id": "1e8c6db4-a90f-45a6-b4f2-409dd03ee2ef",
   "metadata": {},
   "outputs": [
    {
     "data": {
      "text/plain": [
       "<matplotlib.image.AxesImage at 0x1f482c43090>"
      ]
     },
     "execution_count": 5,
     "metadata": {},
     "output_type": "execute_result"
    },
    {
     "data": {
      "image/png": "[encoded data removed]",
      "text/plain": [
       "<Figure size 1600x900 with 3 Axes>"
      ]
     },
     "metadata": {},
     "output_type": "display_data"
    }
   ],
   "source": [
    "plt.figure(figsize=(16,9))\n",
    "plt.subplot(1,3,1)\n",
    "plt.title(\"Original IMG1\")\n",
    "plt.imshow(img1)\n",
    "plt.subplot(1,3,2)\n",
    "plt.title(\"Original IMG2\")\n",
    "plt.imshow(img2)\n",
    "plt.subplot(1,3,3)\n",
    "plt.title(\"After AND Operation\")\n",
    "plt.imshow(dest_AND)"
   ]
  },
  {
   "cell_type": "code",
   "execution_count": null,
   "id": "38c9e902-1327-48bb-9799-67fde43820ea",
   "metadata": {},
   "outputs": [],
   "source": [
    "\n"
   ]
  },
  {
   "cell_type": "markdown",
   "id": "e742be1c-813d-43a1-8227-38aa0ad57061",
   "metadata": {},
   "source": [
    "##### BitWise OR"
   ]
  },
  {
   "cell_type": "code",
   "execution_count": 8,
   "id": "1ecd70ed-db0a-4ec0-b2fd-210f49e37b0e",
   "metadata": {},
   "outputs": [
    {
     "data": {
      "text/plain": [
       "<matplotlib.image.AxesImage at 0x1f483b28e50>"
      ]
     },
     "execution_count": 8,
     "metadata": {},
     "output_type": "execute_result"
    },
    {
     "data": {
      "image/png": "[encoded data removed]",
      "text/plain": [
       "<Figure size 1600x900 with 3 Axes>"
      ]
     },
     "metadata": {},
     "output_type": "display_data"
    }
   ],
   "source": [
    "import cv2\n",
    "\n",
    "#load the img.\n",
    "img1 = cv2.imread(\"images/input1.png\")\n",
    "img2 = cv2.imread(\"images/input2.png\")\n",
    "dest_OR = cv2.bitwise_or(img2,img1 , mask =None)\n",
    "\n",
    "plt.figure(figsize=(16,9))\n",
    "plt.subplot(1,3,1)\n",
    "plt.title(\"Original IMG1\")\n",
    "plt.imshow(img1)\n",
    "plt.subplot(1,3,2)\n",
    "plt.title(\"Original IMG2\")\n",
    "plt.imshow(img2)\n",
    "plt.subplot(1,3,3)\n",
    "plt.title(\"After OR Operation\")\n",
    "plt.imshow(dest_OR )\n"
   ]
  },
  {
   "cell_type": "code",
   "execution_count": null,
   "id": "5d453af6-9b95-4c81-bfa9-0dea54cf33e2",
   "metadata": {},
   "outputs": [],
   "source": []
  },
  {
   "cell_type": "markdown",
   "id": "a0c7e242-7f12-4273-80ec-cff9725dc28e",
   "metadata": {},
   "source": [
    "##### BitWise XOR"
   ]
  },
  {
   "cell_type": "code",
   "execution_count": 10,
   "id": "a02721f8-c01a-487f-86f9-e72cee543cec",
   "metadata": {},
   "outputs": [
    {
     "data": {
      "text/plain": [
       "<matplotlib.image.AxesImage at 0x1f483b8d250>"
      ]
     },
     "execution_count": 10,
     "metadata": {},
     "output_type": "execute_result"
    },
    {
     "data": {
      "image/png": "[encoded data removed]",
      "text/plain": [
       "<Figure size 1600x900 with 3 Axes>"
      ]
     },
     "metadata": {},
     "output_type": "display_data"
    }
   ],
   "source": [
    "import cv2\n",
    "\n",
    "#load the img.\n",
    "img1 = cv2.imread(\"images/input1.png\")\n",
    "img2 = cv2.imread(\"images/input2.png\")\n",
    "dest_XOR = cv2.bitwise_xor(img2,img1 , mask =None)\n",
    "\n",
    "plt.figure(figsize=(16,9))\n",
    "plt.subplot(1,3,1)\n",
    "plt.title(\"Original IMG1\")\n",
    "plt.imshow(img1)\n",
    "plt.subplot(1,3,2)\n",
    "plt.title(\"Original IMG2\")\n",
    "plt.imshow(img2)\n",
    "plt.subplot(1,3,3)\n",
    "plt.title(\"After XOR Operation\")\n",
    "plt.imshow(dest_XOR )\n"
   ]
  },
  {
   "cell_type": "code",
   "execution_count": null,
   "id": "3f705fdf-31ed-40c2-ac9e-041bc4d9059e",
   "metadata": {},
   "outputs": [],
   "source": []
  },
  {
   "cell_type": "markdown",
   "id": "09418b8f-1a60-46ac-9d35-31bbe9921c3a",
   "metadata": {},
   "source": [
    "##### BitWise NOT"
   ]
  },
  {
   "cell_type": "code",
   "execution_count": 11,
   "id": "5ef19d23-3ddc-416e-95cc-cd16ccedb041",
   "metadata": {},
   "outputs": [
    {
     "data": {
      "text/plain": [
       "<matplotlib.image.AxesImage at 0x1f4844a2f90>"
      ]
     },
     "execution_count": 11,
     "metadata": {},
     "output_type": "execute_result"
    },
    {
     "data": {
      "image/png": "[encoded data removed]",
      "text/plain": [
       "<Figure size 1600x900 with 2 Axes>"
      ]
     },
     "metadata": {},
     "output_type": "display_data"
    }
   ],
   "source": [
    "import cv2\n",
    "\n",
    "#load the img.\n",
    "img1 = cv2.imread(\"images/input1.png\")\n",
    "#img2 = cv2.imread(\"images/input2.png\")\n",
    "dest_NOT = cv2.bitwise_not(img1)\n",
    "\n",
    "plt.figure(figsize=(16,9))\n",
    "plt.subplot(1,2,1)\n",
    "plt.title(\"Original IMG1\")\n",
    "plt.imshow(img1)\n",
    "plt.subplot(1,2,2)\n",
    "plt.title(\"After NOT Operation\")\n",
    "plt.imshow(dest_NOT)\n"
   ]
  },
  {
   "cell_type": "code",
   "execution_count": null,
   "id": "8918b91f-8a3b-4c14-a5c5-8caea19803d7",
   "metadata": {},
   "outputs": [],
   "source": []
  },
  {
   "cell_type": "code",
   "execution_count": 12,
   "id": "c10073cb-6523-4fe2-a779-6f8bb5354586",
   "metadata": {},
   "outputs": [
    {
     "data": {
      "text/plain": [
       "<matplotlib.image.AxesImage at 0x1f483c8bad0>"
      ]
     },
     "execution_count": 12,
     "metadata": {},
     "output_type": "execute_result"
    },
    {
     "data": {
      "image/png": "[encoded data removed]",
      "text/plain": [
       "<Figure size 1600x900 with 2 Axes>"
      ]
     },
     "metadata": {},
     "output_type": "display_data"
    }
   ],
   "source": [
    "#img1 = cv2.imread(\"images/input1.png\")\n",
    "img2 = cv2.imread(\"images/input2.png\")\n",
    "dest_NOT = cv2.bitwise_not(img2)\n",
    "\n",
    "plt.figure(figsize=(16,9))\n",
    "plt.subplot(1,2,1)\n",
    "plt.title(\"Original IMG1\")\n",
    "plt.imshow(img2)\n",
    "plt.subplot(1,2,2)\n",
    "plt.title(\"After NOT Operation\")\n",
    "plt.imshow(dest_NOT)"
   ]
  },
  {
   "cell_type": "code",
   "execution_count": null,
   "id": "9acf0a88-139f-48e8-805f-882ca815f745",
   "metadata": {},
   "outputs": [],
   "source": []
  }
 ],
 "metadata": {
  "kernelspec": {
   "display_name": "Python 3 (ipykernel)",
   "language": "python",
   "name": "python3"
  },
  "language_info": {
   "codemirror_mode": {
    "name": "ipython",
    "version": 3
   },
   "file_extension": ".py",
   "mimetype": "text/x-python",
   "name": "python",
   "nbconvert_exporter": "python",
   "pygments_lexer": "ipython3",
   "version": "3.11.7"
  }
 },
 "nbformat": 4,
 "nbformat_minor": 5
}
