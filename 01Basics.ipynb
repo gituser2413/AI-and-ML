{
 "cells": [
  {
   "cell_type": "code",
   "execution_count": 3,
   "id": "ba424145-921d-49e0-9525-560f2b137203",
   "metadata": {},
   "outputs": [
    {
     "name": "stdout",
     "output_type": "stream",
     "text": [
      "Hello\n"
     ]
    }
   ],
   "source": [
    "print(\"Hello\")"
   ]
  },
  {
   "cell_type": "code",
   "execution_count": 5,
   "id": "287fc58a-60a9-4a28-a6fc-625548fa110a",
   "metadata": {},
   "outputs": [
    {
     "name": "stdin",
     "output_type": "stream",
     "text": [
      "Enter the Temperature To convert 55\n"
     ]
    },
    {
     "name": "stdout",
     "output_type": "stream",
     "text": [
      "Ferenhite Temperature Is :  131.0\n"
     ]
    }
   ],
   "source": [
    "cent = int(input(\"Enter the Temperature To convert\"))\n",
    "far=cent*1.8+32\n",
    "print(\"Ferenhite Temperature Is : \",far)"
   ]
  },
  {
   "cell_type": "markdown",
   "id": "88039d39-ff47-4249-9874-2a6bef607007",
   "metadata": {},
   "source": [
    "##### To convert the Temperature"
   ]
  },
  {
   "cell_type": "code",
   "execution_count": 5,
   "id": "4f359f0a-49e3-42d3-8bbb-ca75c5f0ee5a",
   "metadata": {},
   "outputs": [
    {
     "name": "stdin",
     "output_type": "stream",
     "text": [
      "Enter the Temperature To convert 55\n"
     ]
    },
    {
     "name": "stdout",
     "output_type": "stream",
     "text": [
      "Ferenhite Temperature Is :  131.0\n"
     ]
    }
   ],
   "source": [
    "cent = int(input(\"Enter the Temperature To convert\"))\n",
    "far=cent*1.8+32\n",
    "print(\"Ferenhite Temperature Is : \",far)"
   ]
  },
  {
   "cell_type": "code",
   "execution_count": null,
   "id": "65f44004-92b0-42dd-8c39-465c3a222d0b",
   "metadata": {},
   "outputs": [],
   "source": []
  },
  {
   "cell_type": "code",
   "execution_count": 6,
   "id": "0be09322-2607-4088-9cd6-40c1cb5500a8",
   "metadata": {},
   "outputs": [
    {
     "name": "stdin",
     "output_type": "stream",
     "text": [
      "Enter the Temperature To convert -40\n"
     ]
    },
    {
     "name": "stdout",
     "output_type": "stream",
     "text": [
      "Ferenhite Temperature Is :  -40.0\n"
     ]
    }
   ],
   "source": [
    "cent = int(input(\"Enter the Temperature To convert\"))\n",
    "far=cent*1.8+32\n",
    "print(\"Ferenhite Temperature Is : \",far)"
   ]
  },
  {
   "cell_type": "code",
   "execution_count": 8,
   "id": "414b6cf4-d690-48b3-ad04-8fe7575adad9",
   "metadata": {},
   "outputs": [
    {
     "data": {
      "text/plain": [
       "int"
      ]
     },
     "execution_count": 8,
     "metadata": {},
     "output_type": "execute_result"
    }
   ],
   "source": [
    "type(cent)"
   ]
  },
  {
   "cell_type": "code",
   "execution_count": 7,
   "id": "d915785a-e406-4b04-b56a-c82472507187",
   "metadata": {},
   "outputs": [
    {
     "data": {
      "text/plain": [
       "float"
      ]
     },
     "execution_count": 7,
     "metadata": {},
     "output_type": "execute_result"
    }
   ],
   "source": [
    "type(far)"
   ]
  },
  {
   "cell_type": "code",
   "execution_count": null,
   "id": "4012076a-1b2f-4290-91f1-dca02f98f47e",
   "metadata": {},
   "outputs": [],
   "source": []
  },
  {
   "cell_type": "markdown",
   "id": "dd7eccc8-762e-4e5a-b872-96a1fbf220cc",
   "metadata": {},
   "source": [
    "##### Decision Making Statment"
   ]
  },
  {
   "cell_type": "markdown",
   "id": "962d40cb-3347-49be-957f-b38f7b9c0397",
   "metadata": {},
   "source": [
    "num = int(input(\"Enter the number\"))\n",
    "if num > 0:\n",
    "    print('Number is positive')\n",
    "else:\n",
    "    print('Number is positive')"
   ]
  },
  {
   "cell_type": "code",
   "execution_count": 15,
   "id": "9ab4612a-4663-4270-9048-75f3a235bc28",
   "metadata": {},
   "outputs": [
    {
     "name": "stdin",
     "output_type": "stream",
     "text": [
      "Enter the number 0\n"
     ]
    },
    {
     "name": "stdout",
     "output_type": "stream",
     "text": [
      "Number is Zero\n"
     ]
    }
   ],
   "source": [
    "num = int(input(\"Enter the number\"))\n",
    "if num > 0:\n",
    "    print('Number is positive')\n",
    "elif num==0:\n",
    "     print('Number is Zero')\n",
    "else:\n",
    "    print('Number is positive')"
   ]
  },
  {
   "cell_type": "code",
   "execution_count": 16,
   "id": "d7923687-fe64-4db6-8e3a-9539d4a2e2ad",
   "metadata": {},
   "outputs": [
    {
     "name": "stdin",
     "output_type": "stream",
     "text": [
      "Enter the number -9\n"
     ]
    },
    {
     "name": "stdout",
     "output_type": "stream",
     "text": [
      "Number is positive\n"
     ]
    }
   ],
   "source": [
    "num = int(input(\"Enter the number\"))\n",
    "if num > 0:\n",
    "    print('Number is positive')\n",
    "elif num==0:\n",
    "     print('Number is Zero')\n",
    "else:\n",
    "    print('Number is positive')"
   ]
  },
  {
   "cell_type": "code",
   "execution_count": 17,
   "id": "69911d2f-388d-42a7-86b5-e341101fe19e",
   "metadata": {},
   "outputs": [
    {
     "name": "stdin",
     "output_type": "stream",
     "text": [
      "Enter the number 0\n"
     ]
    },
    {
     "name": "stdout",
     "output_type": "stream",
     "text": [
      "Number is Zero\n"
     ]
    }
   ],
   "source": [
    "num = int(input(\"Enter the number\"))\n",
    "if num > 0:\n",
    "    print('Number is positive')\n",
    "elif num==0:\n",
    "     print('Number is Zero')\n",
    "else:\n",
    "    print('Number is Negative')"
   ]
  },
  {
   "cell_type": "markdown",
   "id": "c161c10c-8766-4222-8e5a-fa0b3d8933ac",
   "metadata": {},
   "source": [
    "num = int(input(\"Enter the number\"))\n",
    "if num > 0:\n",
    "    print('Number is positive')\n",
    "elif num==0:\n",
    "     print('Number is Zero')\n",
    "else:\n",
    "    print('Number is Negative')"
   ]
  },
  {
   "cell_type": "markdown",
   "id": "b611ae54-84b1-431f-9b37-810398e87846",
   "metadata": {},
   "source": [
    "##### Looping"
   ]
  },
  {
   "cell_type": "code",
   "execution_count": 20,
   "id": "2625ce72-37ce-4783-995c-f63171e06e8b",
   "metadata": {
    "scrolled": true
   },
   "outputs": [
    {
     "name": "stdout",
     "output_type": "stream",
     "text": [
      "Diksha\n",
      "Diksha\n",
      "Diksha\n",
      "Diksha\n",
      "Diksha\n",
      "Diksha\n",
      "Diksha\n",
      "Diksha\n",
      "Diksha\n",
      "Diksha\n"
     ]
    }
   ],
   "source": [
    "count = 0\n",
    "while count < 10:\n",
    "    print(\"Diksha\")\n",
    "    count = count +1"
   ]
  },
  {
   "cell_type": "code",
   "execution_count": 22,
   "id": "2c53aed9-c72e-4573-a7f8-642b2e18f1c7",
   "metadata": {},
   "outputs": [
    {
     "name": "stdout",
     "output_type": "stream",
     "text": [
      "21\n",
      "20\n",
      "36\n",
      "35\n"
     ]
    }
   ],
   "source": [
    "for i in 21,20,36,35:\n",
    "    print(i)"
   ]
  },
  {
   "cell_type": "code",
   "execution_count": 24,
   "id": "3ca52439-3aad-497d-9c9e-ae5c32de2b1a",
   "metadata": {},
   "outputs": [
    {
     "name": "stdout",
     "output_type": "stream",
     "text": [
      "PPPPPPPPPP\n",
      "uuuuuuuuuu\n",
      "nnnnnnnnnn\n",
      "eeeeeeeeee\n"
     ]
    }
   ],
   "source": [
    "for i in 'Pune':\n",
    "     print(i*10)"
   ]
  },
  {
   "cell_type": "code",
   "execution_count": 28,
   "id": "61e540ba-1b37-4493-81aa-ff2f1a10bb5d",
   "metadata": {},
   "outputs": [
    {
     "name": "stdout",
     "output_type": "stream",
     "text": [
      "0\n",
      "1\n",
      "4\n",
      "9\n",
      "16\n",
      "25\n",
      "36\n",
      "49\n",
      "64\n",
      "81\n"
     ]
    }
   ],
   "source": [
    "for x in range(10):\n",
    "     print(x * x)"
   ]
  },
  {
   "cell_type": "code",
   "execution_count": 43,
   "id": "54d0ca51-170f-42a6-af69-b7c650999607",
   "metadata": {},
   "outputs": [
    {
     "name": "stdout",
     "output_type": "stream",
     "text": [
      "Square is 25\n"
     ]
    }
   ],
   "source": []
  },
  {
   "cell_type": "code",
   "execution_count": 44,
   "id": "76eadf8a-7f8d-4806-903a-9346df9b90ce",
   "metadata": {},
   "outputs": [
    {
     "name": "stdout",
     "output_type": "stream",
     "text": [
      "Square is 25\n"
     ]
    }
   ],
   "source": [
    "def square(num):\n",
    "    sq = num * num\n",
    "    return sq\n",
    "\n",
    "print(\"Square is\", square(5))"
   ]
  },
  {
   "cell_type": "code",
   "execution_count": 45,
   "id": "65e0cb32-9713-43d6-81a9-d3aadc2c7b5c",
   "metadata": {},
   "outputs": [
    {
     "data": {
      "text/plain": [
       "25"
      ]
     },
     "execution_count": 45,
     "metadata": {},
     "output_type": "execute_result"
    }
   ],
   "source": [
    "def square(num=10):\n",
    "    sq = num * num\n",
    "    return sq\n",
    "\n",
    "square(5)"
   ]
  },
  {
   "cell_type": "code",
   "execution_count": 46,
   "id": "a3ace865-5a56-4e60-aaf3-6ed612811283",
   "metadata": {},
   "outputs": [
    {
     "data": {
      "text/plain": [
       "100"
      ]
     },
     "execution_count": 46,
     "metadata": {},
     "output_type": "execute_result"
    }
   ],
   "source": [
    "square()"
   ]
  },
  {
   "cell_type": "code",
   "execution_count": 47,
   "id": "a0f04cea-179b-4934-ad97-dafe47c36fd0",
   "metadata": {},
   "outputs": [
    {
     "data": {
      "text/plain": [
       "(16, 64)"
      ]
     },
     "execution_count": 47,
     "metadata": {},
     "output_type": "execute_result"
    }
   ],
   "source": [
    "def calci(num):\n",
    "    sq = num * num\n",
    "    cu = num **3\n",
    "    return sq, cu\n",
    "\n",
    "calci(4)"
   ]
  },
  {
   "cell_type": "markdown",
   "id": "b758339a-84ab-4b69-9083-38243c02f5e0",
   "metadata": {},
   "source": [
    "#####Data structure"
   ]
  },
  {
   "cell_type": "code",
   "execution_count": 50,
   "id": "d3adc455-b456-41ec-8d76-c78a35b875c9",
   "metadata": {},
   "outputs": [],
   "source": [
    "n1 ={23,55,77,90}"
   ]
  },
  {
   "cell_type": "code",
   "execution_count": 51,
   "id": "1e21f1d9-f947-44b1-ad5a-30ff3adc67c7",
   "metadata": {},
   "outputs": [
    {
     "data": {
      "text/plain": [
       "type[{90, 23, 77, 55}]"
      ]
     },
     "execution_count": 51,
     "metadata": {},
     "output_type": "execute_result"
    }
   ],
   "source": [
    "type[(n1)]"
   ]
  },
  {
   "cell_type": "code",
   "execution_count": 52,
   "id": "493fe0c6-d7a3-4ddd-a572-5f383fd1388e",
   "metadata": {},
   "outputs": [],
   "source": [
    "n1 =[23,55,77,90]"
   ]
  },
  {
   "cell_type": "code",
   "execution_count": 53,
   "id": "ffd623cd-354f-423a-8e48-bbfe97aea203",
   "metadata": {},
   "outputs": [
    {
     "data": {
      "text/plain": [
       "type[[23, 55, 77, 90]]"
      ]
     },
     "execution_count": 53,
     "metadata": {},
     "output_type": "execute_result"
    }
   ],
   "source": [
    "type[(n1)]"
   ]
  },
  {
   "cell_type": "code",
   "execution_count": 54,
   "id": "63cf3f93-59dc-4cbc-bb6b-33e341620629",
   "metadata": {},
   "outputs": [
    {
     "data": {
      "text/plain": [
       "list"
      ]
     },
     "execution_count": 54,
     "metadata": {},
     "output_type": "execute_result"
    }
   ],
   "source": [
    "type(n1)"
   ]
  },
  {
   "cell_type": "code",
   "execution_count": 55,
   "id": "ad999866-9bb1-4635-8698-230212c8c9ec",
   "metadata": {},
   "outputs": [
    {
     "data": {
      "text/plain": [
       "90"
      ]
     },
     "execution_count": 55,
     "metadata": {},
     "output_type": "execute_result"
    }
   ],
   "source": [
    "n1[3]"
   ]
  },
  {
   "cell_type": "code",
   "execution_count": 56,
   "id": "9f567bf5-e474-4e17-94de-7829e0e8c5e7",
   "metadata": {},
   "outputs": [
    {
     "data": {
      "text/plain": [
       "77"
      ]
     },
     "execution_count": 56,
     "metadata": {},
     "output_type": "execute_result"
    }
   ],
   "source": [
    "n1[2]"
   ]
  },
  {
   "cell_type": "code",
   "execution_count": 57,
   "id": "76115f38-9037-4fed-b043-c4dd159b6796",
   "metadata": {},
   "outputs": [],
   "source": [
    "n2 = {55,99,88}"
   ]
  },
  {
   "cell_type": "code",
   "execution_count": 58,
   "id": "5e4ac4a6-f4d4-4b05-ad9d-71acffc9f252",
   "metadata": {},
   "outputs": [
    {
     "data": {
      "text/plain": [
       "set"
      ]
     },
     "execution_count": 58,
     "metadata": {},
     "output_type": "execute_result"
    }
   ],
   "source": [
    "type(n2)"
   ]
  },
  {
   "cell_type": "code",
   "execution_count": 59,
   "id": "db8b860f-8375-4a62-ad1f-a3bcb7be2ce2",
   "metadata": {},
   "outputs": [],
   "source": [
    "n2 = (55,99,88)"
   ]
  },
  {
   "cell_type": "code",
   "execution_count": 60,
   "id": "b08e4e54-11e0-4a8a-8831-66ed69ca0b76",
   "metadata": {},
   "outputs": [
    {
     "data": {
      "text/plain": [
       "tuple"
      ]
     },
     "execution_count": 60,
     "metadata": {},
     "output_type": "execute_result"
    }
   ],
   "source": [
    "type(n2)"
   ]
  },
  {
   "cell_type": "code",
   "execution_count": 61,
   "id": "1218469c-480e-4e6f-8bcf-a1655b97aff5",
   "metadata": {},
   "outputs": [],
   "source": [
    "n1[2]=56\n"
   ]
  },
  {
   "cell_type": "code",
   "execution_count": 63,
   "id": "eb0b1bd7-1f6d-4880-b50e-5b96c2812a59",
   "metadata": {},
   "outputs": [],
   "source": [
    "n2 = {55,99,88}"
   ]
  },
  {
   "cell_type": "code",
   "execution_count": 64,
   "id": "ca892a54-b683-4d3e-8f81-fbd112b55f33",
   "metadata": {},
   "outputs": [],
   "source": [
    "n3 = {55,99,88}"
   ]
  },
  {
   "cell_type": "code",
   "execution_count": 65,
   "id": "e22ef04b-af08-4edc-9b45-d537cfc9c037",
   "metadata": {},
   "outputs": [
    {
     "data": {
      "text/plain": [
       "set"
      ]
     },
     "execution_count": 65,
     "metadata": {},
     "output_type": "execute_result"
    }
   ],
   "source": [
    "type(n3)"
   ]
  },
  {
   "cell_type": "code",
   "execution_count": 66,
   "id": "56ec65cf-6760-4a84-ab50-bb1430007198",
   "metadata": {},
   "outputs": [],
   "source": [
    "n3 = {55,99,67,88,67}"
   ]
  },
  {
   "cell_type": "code",
   "execution_count": 67,
   "id": "10bffadd-e4ae-4bf4-9ccb-dd738e70e640",
   "metadata": {},
   "outputs": [
    {
     "data": {
      "text/plain": [
       "set"
      ]
     },
     "execution_count": 67,
     "metadata": {},
     "output_type": "execute_result"
    }
   ],
   "source": [
    "type(n3)"
   ]
  },
  {
   "cell_type": "code",
   "execution_count": 68,
   "id": "4fbb8dac-ea9c-4f52-9a14-15650a4931c2",
   "metadata": {},
   "outputs": [
    {
     "data": {
      "text/plain": [
       "{55, 67, 88, 99}"
      ]
     },
     "execution_count": 68,
     "metadata": {},
     "output_type": "execute_result"
    }
   ],
   "source": [
    "n3"
   ]
  },
  {
   "cell_type": "code",
   "execution_count": 76,
   "id": "a3d8b437-805a-4ee9-a1ea-a49ea3458317",
   "metadata": {},
   "outputs": [],
   "source": [
    "n4 = {55:3,9:9,67:99,88:23,'z':67}"
   ]
  },
  {
   "cell_type": "code",
   "execution_count": 70,
   "id": "dfece818-4c98-46e6-8209-4fd1110604d6",
   "metadata": {},
   "outputs": [
    {
     "data": {
      "text/plain": [
       "dict"
      ]
     },
     "execution_count": 70,
     "metadata": {},
     "output_type": "execute_result"
    }
   ],
   "source": [
    "type(n4)"
   ]
  },
  {
   "cell_type": "code",
   "execution_count": 73,
   "id": "98df9e5e-e819-4a75-a02b-addc71107521",
   "metadata": {},
   "outputs": [
    {
     "data": {
      "text/plain": [
       "67"
      ]
     },
     "execution_count": 73,
     "metadata": {},
     "output_type": "execute_result"
    }
   ],
   "source": [
    "n4['z']"
   ]
  },
  {
   "cell_type": "code",
   "execution_count": 75,
   "id": "af0a2114-eaf2-4f2a-9b25-5bbd88c25e58",
   "metadata": {},
   "outputs": [
    {
     "data": {
      "text/plain": [
       "23"
      ]
     },
     "execution_count": 75,
     "metadata": {},
     "output_type": "execute_result"
    }
   ],
   "source": [
    "n4[88]"
   ]
  },
  {
   "cell_type": "markdown",
   "id": "1a0dabf4-0af1-4335-8473-e4fd71bae688",
   "metadata": {},
   "source": [
    "##### Class\n"
   ]
  },
  {
   "cell_type": "code",
   "execution_count": 77,
   "id": "6413fe43-6adc-4011-a6fc-4229b92dc7b7",
   "metadata": {},
   "outputs": [],
   "source": [
    "n1.reverse()\n"
   ]
  },
  {
   "cell_type": "code",
   "execution_count": 78,
   "id": "763790b0-dbfd-47ff-8bc8-b586d8897fb1",
   "metadata": {},
   "outputs": [
    {
     "data": {
      "text/plain": [
       "[90, 56, 55, 23]"
      ]
     },
     "execution_count": 78,
     "metadata": {},
     "output_type": "execute_result"
    }
   ],
   "source": [
    "n1"
   ]
  },
  {
   "cell_type": "code",
   "execution_count": 79,
   "id": "b729542d-b04c-4086-a889-f77941385d33",
   "metadata": {},
   "outputs": [
    {
     "data": {
      "text/plain": [
       "dict_items([(55, 3), (9, 9), (67, 99), (88, 23), ('z', 67)])"
      ]
     },
     "execution_count": 79,
     "metadata": {},
     "output_type": "execute_result"
    }
   ],
   "source": [
    "n4.items()"
   ]
  },
  {
   "cell_type": "code",
   "execution_count": 80,
   "id": "5f824d93-5e74-45bd-adf7-ad2f2a0c6da7",
   "metadata": {},
   "outputs": [],
   "source": [
    "nm = \"Diksha\""
   ]
  },
  {
   "cell_type": "code",
   "execution_count": 81,
   "id": "4c348f93-f488-43ff-826c-197279545165",
   "metadata": {},
   "outputs": [
    {
     "data": {
      "text/plain": [
       "'Diksha'"
      ]
     },
     "execution_count": 81,
     "metadata": {},
     "output_type": "execute_result"
    }
   ],
   "source": [
    "nm.capitalize()"
   ]
  },
  {
   "cell_type": "code",
   "execution_count": 85,
   "id": "d56b743b-058a-44f4-8536-e9df291554e3",
   "metadata": {},
   "outputs": [
    {
     "data": {
      "text/plain": [
       "'diksha'"
      ]
     },
     "execution_count": 85,
     "metadata": {},
     "output_type": "execute_result"
    }
   ],
   "source": [
    "nm.casefold()"
   ]
  },
  {
   "cell_type": "code",
   "execution_count": 88,
   "id": "bc155c97-0452-46a4-b426-53b081cbf84f",
   "metadata": {},
   "outputs": [],
   "source": [
    "class person:\n",
    "    def __init__(self,n,a):\n",
    "      self.name = n\n",
    "      self.age = a\n",
    "    def show(self):\n",
    "        print(\"Values are\")\n",
    "        print(self.name ,self.age)"
   ]
  },
  {
   "cell_type": "code",
   "execution_count": 93,
   "id": "77ebcb90-5ca7-4379-a580-65c6d5157375",
   "metadata": {},
   "outputs": [],
   "source": [
    "class person:\n",
    "    def __init__(self,n,a):\n",
    "      self.name = n\n",
    "      self.age = a\n",
    "    def show(self):\n",
    "        print(\"Values are\")\n",
    "        print(self.name ,self.age)"
   ]
  },
  {
   "cell_type": "code",
   "execution_count": 94,
   "id": "36826a7a-c474-4a82-9ba3-9ca6e1a40adf",
   "metadata": {},
   "outputs": [],
   "source": [
    "p1=person('Apurva',13)"
   ]
  },
  {
   "cell_type": "code",
   "execution_count": 95,
   "id": "d5f88978-d1e5-4651-80a8-b0e6e86bcbfc",
   "metadata": {},
   "outputs": [
    {
     "data": {
      "text/plain": [
       "'Apurva'"
      ]
     },
     "execution_count": 95,
     "metadata": {},
     "output_type": "execute_result"
    }
   ],
   "source": [
    "p1.name"
   ]
  },
  {
   "cell_type": "code",
   "execution_count": 96,
   "id": "903f6009-5d7f-4060-ab5d-57fd8c4b7f17",
   "metadata": {},
   "outputs": [
    {
     "data": {
      "text/plain": [
       "13"
      ]
     },
     "execution_count": 96,
     "metadata": {},
     "output_type": "execute_result"
    }
   ],
   "source": [
    "p1.age"
   ]
  },
  {
   "cell_type": "code",
   "execution_count": 97,
   "id": "a76c3b3f-c1fb-4997-94fd-9919f300d973",
   "metadata": {},
   "outputs": [],
   "source": [
    "p2=person('purva',33)"
   ]
  },
  {
   "cell_type": "code",
   "execution_count": 98,
   "id": "d3d1db91-b410-4530-84db-1ae168d4fcb1",
   "metadata": {},
   "outputs": [
    {
     "data": {
      "text/plain": [
       "'purva'"
      ]
     },
     "execution_count": 98,
     "metadata": {},
     "output_type": "execute_result"
    }
   ],
   "source": [
    "p2.name"
   ]
  },
  {
   "cell_type": "code",
   "execution_count": 99,
   "id": "8c8c9ad2-d31d-45b0-ba1c-4e02f4c30c4d",
   "metadata": {},
   "outputs": [
    {
     "name": "stdout",
     "output_type": "stream",
     "text": [
      "Values are\n",
      "Apurva 13\n"
     ]
    }
   ],
   "source": [
    "p1.show()"
   ]
  },
  {
   "cell_type": "code",
   "execution_count": 100,
   "id": "2ed762c6-89cf-49e1-b301-2ef168c1a21f",
   "metadata": {},
   "outputs": [
    {
     "name": "stdout",
     "output_type": "stream",
     "text": [
      "Values are\n",
      "purva 33\n"
     ]
    }
   ],
   "source": [
    "p2.show()"
   ]
  },
  {
   "cell_type": "markdown",
   "id": "feef9e1d-78ce-4a85-b02a-255ffeafeee6",
   "metadata": {},
   "source": [
    "##### Using The Library"
   ]
  },
  {
   "cell_type": "code",
   "execution_count": 101,
   "id": "f0ae48f6-3310-404a-9f37-3be96c254491",
   "metadata": {},
   "outputs": [],
   "source": [
    "import math"
   ]
  },
  {
   "cell_type": "code",
   "execution_count": 102,
   "id": "30e69a0f-e431-469a-8376-735a46040960",
   "metadata": {},
   "outputs": [
    {
     "name": "stdout",
     "output_type": "stream",
     "text": [
      "Help on built-in module math:\n",
      "\n",
      "NAME\n",
      "    math\n",
      "\n",
      "DESCRIPTION\n",
      "    This module provides access to the mathematical functions\n",
      "    defined by the C standard.\n",
      "\n",
      "FUNCTIONS\n",
      "    acos(x, /)\n",
      "        Return the arc cosine (measured in radians) of x.\n",
      "        \n",
      "        The result is between 0 and pi.\n",
      "    \n",
      "    acosh(x, /)\n",
      "        Return the inverse hyperbolic cosine of x.\n",
      "    \n",
      "    asin(x, /)\n",
      "        Return the arc sine (measured in radians) of x.\n",
      "        \n",
      "        The result is between -pi/2 and pi/2.\n",
      "    \n",
      "    asinh(x, /)\n",
      "        Return the inverse hyperbolic sine of x.\n",
      "    \n",
      "    atan(x, /)\n",
      "        Return the arc tangent (measured in radians) of x.\n",
      "        \n",
      "        The result is between -pi/2 and pi/2.\n",
      "    \n",
      "    atan2(y, x, /)\n",
      "        Return the arc tangent (measured in radians) of y/x.\n",
      "        \n",
      "        Unlike atan(y/x), the signs of both x and y are considered.\n",
      "    \n",
      "    atanh(x, /)\n",
      "        Return the inverse hyperbolic tangent of x.\n",
      "    \n",
      "    cbrt(x, /)\n",
      "        Return the cube root of x.\n",
      "    \n",
      "    ceil(x, /)\n",
      "        Return the ceiling of x as an Integral.\n",
      "        \n",
      "        This is the smallest integer >= x.\n",
      "    \n",
      "    comb(n, k, /)\n",
      "        Number of ways to choose k items from n items without repetition and without order.\n",
      "        \n",
      "        Evaluates to n! / (k! * (n - k)!) when k <= n and evaluates\n",
      "        to zero when k > n.\n",
      "        \n",
      "        Also called the binomial coefficient because it is equivalent\n",
      "        to the coefficient of k-th term in polynomial expansion of the\n",
      "        expression (1 + x)**n.\n",
      "        \n",
      "        Raises TypeError if either of the arguments are not integers.\n",
      "        Raises ValueError if either of the arguments are negative.\n",
      "    \n",
      "    copysign(x, y, /)\n",
      "        Return a float with the magnitude (absolute value) of x but the sign of y.\n",
      "        \n",
      "        On platforms that support signed zeros, copysign(1.0, -0.0)\n",
      "        returns -1.0.\n",
      "    \n",
      "    cos(x, /)\n",
      "        Return the cosine of x (measured in radians).\n",
      "    \n",
      "    cosh(x, /)\n",
      "        Return the hyperbolic cosine of x.\n",
      "    \n",
      "    degrees(x, /)\n",
      "        Convert angle x from radians to degrees.\n",
      "    \n",
      "    dist(p, q, /)\n",
      "        Return the Euclidean distance between two points p and q.\n",
      "        \n",
      "        The points should be specified as sequences (or iterables) of\n",
      "        coordinates.  Both inputs must have the same dimension.\n",
      "        \n",
      "        Roughly equivalent to:\n",
      "            sqrt(sum((px - qx) ** 2.0 for px, qx in zip(p, q)))\n",
      "    \n",
      "    erf(x, /)\n",
      "        Error function at x.\n",
      "    \n",
      "    erfc(x, /)\n",
      "        Complementary error function at x.\n",
      "    \n",
      "    exp(x, /)\n",
      "        Return e raised to the power of x.\n",
      "    \n",
      "    exp2(x, /)\n",
      "        Return 2 raised to the power of x.\n",
      "    \n",
      "    expm1(x, /)\n",
      "        Return exp(x)-1.\n",
      "        \n",
      "        This function avoids the loss of precision involved in the direct evaluation of exp(x)-1 for small x.\n",
      "    \n",
      "    fabs(x, /)\n",
      "        Return the absolute value of the float x.\n",
      "    \n",
      "    factorial(n, /)\n",
      "        Find n!.\n",
      "        \n",
      "        Raise a ValueError if x is negative or non-integral.\n",
      "    \n",
      "    floor(x, /)\n",
      "        Return the floor of x as an Integral.\n",
      "        \n",
      "        This is the largest integer <= x.\n",
      "    \n",
      "    fmod(x, y, /)\n",
      "        Return fmod(x, y), according to platform C.\n",
      "        \n",
      "        x % y may differ.\n",
      "    \n",
      "    frexp(x, /)\n",
      "        Return the mantissa and exponent of x, as pair (m, e).\n",
      "        \n",
      "        m is a float and e is an int, such that x = m * 2.**e.\n",
      "        If x is 0, m and e are both 0.  Else 0.5 <= abs(m) < 1.0.\n",
      "    \n",
      "    fsum(seq, /)\n",
      "        Return an accurate floating point sum of values in the iterable seq.\n",
      "        \n",
      "        Assumes IEEE-754 floating point arithmetic.\n",
      "    \n",
      "    gamma(x, /)\n",
      "        Gamma function at x.\n",
      "    \n",
      "    gcd(*integers)\n",
      "        Greatest Common Divisor.\n",
      "    \n",
      "    hypot(...)\n",
      "        hypot(*coordinates) -> value\n",
      "        \n",
      "        Multidimensional Euclidean distance from the origin to a point.\n",
      "        \n",
      "        Roughly equivalent to:\n",
      "            sqrt(sum(x**2 for x in coordinates))\n",
      "        \n",
      "        For a two dimensional point (x, y), gives the hypotenuse\n",
      "        using the Pythagorean theorem:  sqrt(x*x + y*y).\n",
      "        \n",
      "        For example, the hypotenuse of a 3/4/5 right triangle is:\n",
      "        \n",
      "            >>> hypot(3.0, 4.0)\n",
      "            5.0\n",
      "    \n",
      "    isclose(a, b, *, rel_tol=1e-09, abs_tol=0.0)\n",
      "        Determine whether two floating point numbers are close in value.\n",
      "        \n",
      "          rel_tol\n",
      "            maximum difference for being considered \"close\", relative to the\n",
      "            magnitude of the input values\n",
      "          abs_tol\n",
      "            maximum difference for being considered \"close\", regardless of the\n",
      "            magnitude of the input values\n",
      "        \n",
      "        Return True if a is close in value to b, and False otherwise.\n",
      "        \n",
      "        For the values to be considered close, the difference between them\n",
      "        must be smaller than at least one of the tolerances.\n",
      "        \n",
      "        -inf, inf and NaN behave similarly to the IEEE 754 Standard.  That\n",
      "        is, NaN is not close to anything, even itself.  inf and -inf are\n",
      "        only close to themselves.\n",
      "    \n",
      "    isfinite(x, /)\n",
      "        Return True if x is neither an infinity nor a NaN, and False otherwise.\n",
      "    \n",
      "    isinf(x, /)\n",
      "        Return True if x is a positive or negative infinity, and False otherwise.\n",
      "    \n",
      "    isnan(x, /)\n",
      "        Return True if x is a NaN (not a number), and False otherwise.\n",
      "    \n",
      "    isqrt(n, /)\n",
      "        Return the integer part of the square root of the input.\n",
      "    \n",
      "    lcm(*integers)\n",
      "        Least Common Multiple.\n",
      "    \n",
      "    ldexp(x, i, /)\n",
      "        Return x * (2**i).\n",
      "        \n",
      "        This is essentially the inverse of frexp().\n",
      "    \n",
      "    lgamma(x, /)\n",
      "        Natural logarithm of absolute value of Gamma function at x.\n",
      "    \n",
      "    log(...)\n",
      "        log(x, [base=math.e])\n",
      "        Return the logarithm of x to the given base.\n",
      "        \n",
      "        If the base not specified, returns the natural logarithm (base e) of x.\n",
      "    \n",
      "    log10(x, /)\n",
      "        Return the base 10 logarithm of x.\n",
      "    \n",
      "    log1p(x, /)\n",
      "        Return the natural logarithm of 1+x (base e).\n",
      "        \n",
      "        The result is computed in a way which is accurate for x near zero.\n",
      "    \n",
      "    log2(x, /)\n",
      "        Return the base 2 logarithm of x.\n",
      "    \n",
      "    modf(x, /)\n",
      "        Return the fractional and integer parts of x.\n",
      "        \n",
      "        Both results carry the sign of x and are floats.\n",
      "    \n",
      "    nextafter(x, y, /)\n",
      "        Return the next floating-point value after x towards y.\n",
      "    \n",
      "    perm(n, k=None, /)\n",
      "        Number of ways to choose k items from n items without repetition and with order.\n",
      "        \n",
      "        Evaluates to n! / (n - k)! when k <= n and evaluates\n",
      "        to zero when k > n.\n",
      "        \n",
      "        If k is not specified or is None, then k defaults to n\n",
      "        and the function returns n!.\n",
      "        \n",
      "        Raises TypeError if either of the arguments are not integers.\n",
      "        Raises ValueError if either of the arguments are negative.\n",
      "    \n",
      "    pow(x, y, /)\n",
      "        Return x**y (x to the power of y).\n",
      "    \n",
      "    prod(iterable, /, *, start=1)\n",
      "        Calculate the product of all the elements in the input iterable.\n",
      "        \n",
      "        The default start value for the product is 1.\n",
      "        \n",
      "        When the iterable is empty, return the start value.  This function is\n",
      "        intended specifically for use with numeric values and may reject\n",
      "        non-numeric types.\n",
      "    \n",
      "    radians(x, /)\n",
      "        Convert angle x from degrees to radians.\n",
      "    \n",
      "    remainder(x, y, /)\n",
      "        Difference between x and the closest integer multiple of y.\n",
      "        \n",
      "        Return x - n*y where n*y is the closest integer multiple of y.\n",
      "        In the case where x is exactly halfway between two multiples of\n",
      "        y, the nearest even value of n is used. The result is always exact.\n",
      "    \n",
      "    sin(x, /)\n",
      "        Return the sine of x (measured in radians).\n",
      "    \n",
      "    sinh(x, /)\n",
      "        Return the hyperbolic sine of x.\n",
      "    \n",
      "    sqrt(x, /)\n",
      "        Return the square root of x.\n",
      "    \n",
      "    tan(x, /)\n",
      "        Return the tangent of x (measured in radians).\n",
      "    \n",
      "    tanh(x, /)\n",
      "        Return the hyperbolic tangent of x.\n",
      "    \n",
      "    trunc(x, /)\n",
      "        Truncates the Real x to the nearest Integral toward 0.\n",
      "        \n",
      "        Uses the __trunc__ magic method.\n",
      "    \n",
      "    ulp(x, /)\n",
      "        Return the value of the least significant bit of the float x.\n",
      "\n",
      "DATA\n",
      "    e = 2.718281828459045\n",
      "    inf = inf\n",
      "    nan = nan\n",
      "    pi = 3.141592653589793\n",
      "    tau = 6.283185307179586\n",
      "\n",
      "FILE\n",
      "    (built-in)\n",
      "\n",
      "\n"
     ]
    }
   ],
   "source": [
    "help(math)"
   ]
  },
  {
   "cell_type": "code",
   "execution_count": 103,
   "id": "eb9a42df-1ab1-4f40-935e-7a724377c749",
   "metadata": {},
   "outputs": [
    {
     "data": {
      "text/plain": [
       "12.0"
      ]
     },
     "execution_count": 103,
     "metadata": {},
     "output_type": "execute_result"
    }
   ],
   "source": [
    "math.sqrt(144)"
   ]
  },
  {
   "cell_type": "code",
   "execution_count": 104,
   "id": "b4ddb2e7-39f5-477e-95a1-fd00c6d2d38a",
   "metadata": {},
   "outputs": [
    {
     "data": {
      "text/plain": [
       "3.784189633918261"
      ]
     },
     "execution_count": 104,
     "metadata": {},
     "output_type": "execute_result"
    }
   ],
   "source": [
    "math.log(44)"
   ]
  },
  {
   "cell_type": "code",
   "execution_count": 105,
   "id": "27019c75-0392-4eba-8148-74808e4168fd",
   "metadata": {},
   "outputs": [
    {
     "data": {
      "text/plain": [
       "120"
      ]
     },
     "execution_count": 105,
     "metadata": {},
     "output_type": "execute_result"
    }
   ],
   "source": [
    "math.factorial(5)"
   ]
  },
  {
   "cell_type": "code",
   "execution_count": 106,
   "id": "fa562424-b603-49a3-9ddd-d7a38c447e5e",
   "metadata": {},
   "outputs": [
    {
     "data": {
      "text/plain": [
       "495"
      ]
     },
     "execution_count": 106,
     "metadata": {},
     "output_type": "execute_result"
    }
   ],
   "source": [
    "math.lcm(55,99,33)"
   ]
  },
  {
   "cell_type": "code",
   "execution_count": 107,
   "id": "d8cc692c-d802-41d8-abed-55d743736cb3",
   "metadata": {},
   "outputs": [],
   "source": [
    "import math as n"
   ]
  },
  {
   "cell_type": "code",
   "execution_count": 108,
   "id": "f4b6a799-f8e1-4a77-b0cb-f45a36b9f0e8",
   "metadata": {},
   "outputs": [
    {
     "data": {
      "text/plain": [
       "60"
      ]
     },
     "execution_count": 108,
     "metadata": {},
     "output_type": "execute_result"
    }
   ],
   "source": [
    "n.lcm(3,4,5)"
   ]
  },
  {
   "cell_type": "code",
   "execution_count": 109,
   "id": "9cbac2bb-f0c1-4f63-9c47-54e842bbc486",
   "metadata": {},
   "outputs": [],
   "source": [
    "from math import sqrt,pi,lcm"
   ]
  },
  {
   "cell_type": "code",
   "execution_count": 110,
   "id": "d329e81f-331b-4838-9449-da90792ff989",
   "metadata": {},
   "outputs": [
    {
     "data": {
      "text/plain": [
       "6"
      ]
     },
     "execution_count": 110,
     "metadata": {},
     "output_type": "execute_result"
    }
   ],
   "source": [
    "lcm(1,2,3)"
   ]
  },
  {
   "cell_type": "code",
   "execution_count": 111,
   "id": "3de1b9c9-7b6a-4e3e-9e19-33ae05b45e00",
   "metadata": {},
   "outputs": [
    {
     "ename": "NameError",
     "evalue": "name 'log' is not defined",
     "output_type": "error",
     "traceback": [
      "\u001b[1;31m---------------------------------------------------------------------------\u001b[0m",
      "\u001b[1;31mNameError\u001b[0m                                 Traceback (most recent call last)",
      "Cell \u001b[1;32mIn[111], line 1\u001b[0m\n\u001b[1;32m----> 1\u001b[0m log(\u001b[38;5;241m12\u001b[39m)\n",
      "\u001b[1;31mNameError\u001b[0m: name 'log' is not defined"
     ]
    }
   ],
   "source": [
    "log(12)"
   ]
  },
  {
   "cell_type": "code",
   "execution_count": null,
   "id": "ada38d36-e049-4d58-bbba-90f6e517274a",
   "metadata": {},
   "outputs": [],
   "source": []
  }
 ],
 "metadata": {
  "kernelspec": {
   "display_name": "Python 3 (ipykernel)",
   "language": "python",
   "name": "python3"
  },
  "language_info": {
   "codemirror_mode": {
    "name": "ipython",
    "version": 3
   },
   "file_extension": ".py",
   "mimetype": "text/x-python",
   "name": "python",
   "nbconvert_exporter": "python",
   "pygments_lexer": "ipython3",
   "version": "3.11.7"
  }
 },
 "nbformat": 4,
 "nbformat_minor": 5
}
