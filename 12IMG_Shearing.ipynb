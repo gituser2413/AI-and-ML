{
 "cells": [
  {
   "cell_type": "code",
   "execution_count": 1,
   "id": "66cde38c-d1ad-4095-995f-2f69a0b7adf6",
   "metadata": {},
   "outputs": [],
   "source": [
    "#"
   ]
  },
  {
   "cell_type": "code",
   "execution_count": 1,
   "id": "6f8712eb-be98-4d62-8dcf-8eb91f63f739",
   "metadata": {},
   "outputs": [],
   "source": [
    "import cv2"
   ]
  },
  {
   "cell_type": "code",
   "execution_count": 2,
   "id": "6567c368-c9a5-40df-8286-8d8e5d66206a",
   "metadata": {},
   "outputs": [],
   "source": [
    "import numpy as np"
   ]
  },
  {
   "cell_type": "code",
   "execution_count": null,
   "id": "8f533ddb-0d55-48e5-8199-3d6f81796b1a",
   "metadata": {},
   "outputs": [],
   "source": []
  },
  {
   "cell_type": "code",
   "execution_count": 3,
   "id": "50f9f079-8cfd-42b7-97e5-92fe360ba557",
   "metadata": {},
   "outputs": [],
   "source": [
    "image = cv2.imread(\"images/lenna.png\")"
   ]
  },
  {
   "cell_type": "code",
   "execution_count": 4,
   "id": "c872e1e5-88ab-40fe-901f-6bd6e7b9d316",
   "metadata": {},
   "outputs": [],
   "source": [
    "#Define Sharing factor (Adjust as needed)"
   ]
  },
  {
   "cell_type": "code",
   "execution_count": 5,
   "id": "4105ec96-5e19-4100-8c12-03e149306896",
   "metadata": {},
   "outputs": [],
   "source": [
    "share_x = 0.25  # share along x axis\n",
    "share_y = 0.45  # share along y axis"
   ]
  },
  {
   "cell_type": "code",
   "execution_count": 6,
   "id": "ce64ad10-f516-492b-8980-fdaa8b464199",
   "metadata": {},
   "outputs": [],
   "source": [
    "# create transformation matrix\n",
    "\n",
    "M= np.array([[1,share_x ,0],[share_y,1,0],[0,0,1]])\n"
   ]
  },
  {
   "cell_type": "code",
   "execution_count": 8,
   "id": "d3903d75-0dfc-4d24-b463-eed29f50448a",
   "metadata": {},
   "outputs": [],
   "source": [
    "rows ,cols , _ = image.shape\n",
    "\n",
    "T = np.float32([[1,0,0],[0,1,50]])"
   ]
  },
  {
   "cell_type": "code",
   "execution_count": 9,
   "id": "f99ec448-112c-4df9-bcae-bde7eae2c294",
   "metadata": {},
   "outputs": [],
   "source": [
    "# we use warpAffine to transform the img using matrix T\n",
    "\n",
    "img_translation = cv2.warpAffine(image,T,(int(cols*1.5),int(rows*1.5)))\n",
    "sheared_img = cv2.warpPerspective(img_translation ,M,(int(cols*1.5),int(rows*1.5)))\n",
    "\n",
    "cv2.imshow(\"IMG\",sheared_img )\n",
    "cv2.waitKey(0) \n",
    "cv2.destroyAllWindows()\n"
   ]
  },
  {
   "cell_type": "code",
   "execution_count": null,
   "id": "e3cc3978-c67f-4d7a-a7c2-d2800813c805",
   "metadata": {},
   "outputs": [],
   "source": []
  },
  {
   "cell_type": "code",
   "execution_count": null,
   "id": "d3c70fb2-9b8e-46a6-b86f-eb7644dfc8a8",
   "metadata": {},
   "outputs": [],
   "source": []
  },
  {
   "cell_type": "code",
   "execution_count": null,
   "id": "55817b2a-955a-4d93-bdc4-bf6cfe571b13",
   "metadata": {},
   "outputs": [],
   "source": []
  }
 ],
 "metadata": {
  "kernelspec": {
   "display_name": "Python 3 (ipykernel)",
   "language": "python",
   "name": "python3"
  },
  "language_info": {
   "codemirror_mode": {
    "name": "ipython",
    "version": 3
   },
   "file_extension": ".py",
   "mimetype": "text/x-python",
   "name": "python",
   "nbconvert_exporter": "python",
   "pygments_lexer": "ipython3",
   "version": "3.11.7"
  }
 },
 "nbformat": 4,
 "nbformat_minor": 5
}
