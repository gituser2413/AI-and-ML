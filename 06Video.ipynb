{
 "cells": [
  {
   "cell_type": "markdown",
   "id": "b7603d19-54aa-40f5-bb55-ac2086179430",
   "metadata": {},
   "source": [
    "##### Read A Single Frame"
   ]
  },
  {
   "cell_type": "code",
   "execution_count": 1,
   "id": "5a4a4656-169b-44cb-a58b-3d0256c864e4",
   "metadata": {},
   "outputs": [],
   "source": [
    "import cv2"
   ]
  },
  {
   "cell_type": "code",
   "execution_count": 2,
   "id": "d8c93ddb-357a-4b85-b2ef-7297a250ee39",
   "metadata": {},
   "outputs": [],
   "source": [
    "import matplotlib.pyplot as pit"
   ]
  },
  {
   "cell_type": "code",
   "execution_count": 3,
   "id": "4e0d6e21-2db0-4c53-9f78-3169c97cc0b2",
   "metadata": {},
   "outputs": [],
   "source": [
    "vid =cv2.VideoCapture(\"images/robots.mp4\")"
   ]
  },
  {
   "cell_type": "code",
   "execution_count": 4,
   "id": "7aabf399-eb79-4239-bfe8-690d92917d91",
   "metadata": {},
   "outputs": [
    {
     "data": {
      "text/plain": [
       "< cv2.VideoCapture 000002C4D2901FB0>"
      ]
     },
     "execution_count": 4,
     "metadata": {},
     "output_type": "execute_result"
    }
   ],
   "source": [
    "vid"
   ]
  },
  {
   "cell_type": "code",
   "execution_count": 5,
   "id": "b4550241-521a-4c87-8339-367921cad712",
   "metadata": {},
   "outputs": [],
   "source": [
    "ret,frame = vid.read()"
   ]
  },
  {
   "cell_type": "code",
   "execution_count": 6,
   "id": "e53179d8-1bf6-4357-9fa3-3e653bacdc86",
   "metadata": {},
   "outputs": [
    {
     "data": {
      "text/plain": [
       "True"
      ]
     },
     "execution_count": 6,
     "metadata": {},
     "output_type": "execute_result"
    }
   ],
   "source": [
    "ret"
   ]
  },
  {
   "cell_type": "code",
   "execution_count": 7,
   "id": "ca366afe-c3dd-4db7-91a1-4721e029189e",
   "metadata": {},
   "outputs": [
    {
     "data": {
      "text/plain": [
       "(640, 640, 3)"
      ]
     },
     "execution_count": 7,
     "metadata": {},
     "output_type": "execute_result"
    }
   ],
   "source": [
    "frame.shape"
   ]
  },
  {
   "cell_type": "code",
   "execution_count": null,
   "id": "704023fa-6a3d-4f42-b4e1-57c01196a815",
   "metadata": {},
   "outputs": [],
   "source": [
    "cv2.imshow(\"Frame\",frame)\n",
    "cv2.waitKey(0)\n",
    "cv2.destroyAllWindows()    "
   ]
  },
  {
   "cell_type": "markdown",
   "id": "7013bee4-c82e-452e-b0f1-5d77f5b1c410",
   "metadata": {},
   "source": [
    "##### READ A MULTIPLE FRAME FOR AN IMG"
   ]
  },
  {
   "cell_type": "code",
   "execution_count": null,
   "id": "80cd4ead-8aad-407b-aa91-8a3dacdeb04a",
   "metadata": {},
   "outputs": [],
   "source": [
    "width=int(vid.get(cv2.CAP_PROP_FRAME_WIDTH))\n",
    "height=int(vid.get(cv2.CAP_PROP_FRAME_HEIGTH))\n",
    "frames=int(vid.get(cv2.CAP_PROP_FRAME_COUNT))\n",
    "fps=int(vid.get(cv2.CAP_PROP_FRAME_FPS))"
   ]
  },
  {
   "cell_type": "code",
   "execution_count": 16,
   "id": "bbcf717c-6922-47b3-9840-b871a1a97f9c",
   "metadata": {},
   "outputs": [],
   "source": []
  },
  {
   "cell_type": "code",
   "execution_count": null,
   "id": "6364fa28-5bfa-4fe6-b8b0-bbd43f03f4a7",
   "metadata": {},
   "outputs": [],
   "source": []
  },
  {
   "cell_type": "code",
   "execution_count": null,
   "id": "a48c1b49-3a34-402a-a374-a38abc0885bc",
   "metadata": {},
   "outputs": [],
   "source": []
  },
  {
   "cell_type": "code",
   "execution_count": null,
   "id": "6cda4785-3460-4007-bb91-c01f47cc07e7",
   "metadata": {},
   "outputs": [],
   "source": []
  },
  {
   "cell_type": "code",
   "execution_count": null,
   "id": "58116b5e-9ea2-42f0-9ecb-b1551a0d0e24",
   "metadata": {},
   "outputs": [],
   "source": []
  }
 ],
 "metadata": {
  "kernelspec": {
   "display_name": "Python 3 (ipykernel)",
   "language": "python",
   "name": "python3"
  },
  "language_info": {
   "codemirror_mode": {
    "name": "ipython",
    "version": 3
   },
   "file_extension": ".py",
   "mimetype": "text/x-python",
   "name": "python",
   "nbconvert_exporter": "python",
   "pygments_lexer": "ipython3",
   "version": "3.11.7"
  }
 },
 "nbformat": 4,
 "nbformat_minor": 5
}
